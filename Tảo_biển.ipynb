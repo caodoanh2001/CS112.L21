{
  "nbformat": 4,
  "nbformat_minor": 0,
  "metadata": {
    "colab": {
      "name": "Tảo_biển.ipynb",
      "provenance": [],
      "collapsed_sections": [],
      "toc_visible": true,
      "authorship_tag": "ABX9TyMmPxK3eFkfP1A/6xhUP2qg",
      "include_colab_link": true
    },
    "kernelspec": {
      "name": "python3",
      "display_name": "Python 3"
    },
    "language_info": {
      "name": "python"
    }
  },
  "cells": [
    {
      "cell_type": "markdown",
      "metadata": {
        "id": "view-in-github",
        "colab_type": "text"
      },
      "source": [
        "<a href=\"https://colab.research.google.com/github/caohungphu/CS112.L21/blob/Phuong'test/T%E1%BA%A3o_bi%E1%BB%83n.ipynb\" target=\"_parent\"><img src=\"https://colab.research.google.com/assets/colab-badge.svg\" alt=\"Open In Colab\"/></a>"
      ]
    },
    {
      "cell_type": "markdown",
      "metadata": {
        "id": "ya7gJlnMGdnq"
      },
      "source": [
        "**<h1><center><center><center>SEAWEAD</center></h1>**"
      ]
    },
    {
      "cell_type": "markdown",
      "metadata": {
        "id": "HvAPbf_YymMv"
      },
      "source": [
        "### NHÓM L21.04:\n",
        "1. Cao Hưng Phú - *19520214*\n",
        "2. Lê Quang Nha - *19520195*\n",
        "3. Nguyễn Ngọc Lan Phương - *19520227*\n",
        "4. Trần Huỳnh Kỳ Anh - *19521216*"
      ]
    },
    {
      "cell_type": "markdown",
      "metadata": {
        "id": "Hz7z4F5c0rOW"
      },
      "source": [
        "###ĐỀ BÀI:\n",
        "Link đề bài: \n",
        "\n",
        "Tảo biển sinh sản rất nhanh khi có môi trường thuận lợi với chúng và có những loài còn tiết ra môi trường những chất độc hại.\n",
        "\n",
        "Một loại tảo nâu trong môi trường nước bị ô nhiễm nặng sinh sản theo quy luật sau:\n",
        "\n",
        "* Ngày đầu tiên (ngày 0) có **n** cá thể ở mức $1$,\n",
        "* Ở mỗi ngày tiếp theo, mỗi cá thể mức $i$ sinh ra $i$ cá thể mức $1$, các cá thể mới sinh sẽ sinh sôi, phát triển từ ngày hôm sau.\n",
        "* Bản thân các cá thể mức $i$ phát triển thành mức $i+1$ và chu kỳ phát triển trong ngày chấm dứt. \n",
        "\n",
        "Hãy xác định sau **k** ngày trong nước biển có bao nhiêu cá thể.\n",
        "\n",
        "**Dữ liệu:** Vào từ thiết bị nhập chuẩn gồm một dòng chứa 2 số nguyên **n** và **k** ($1 \\le n \\le 1000, 1 \\le k \\le 10^{18}$).\n",
        "\n",
        "**Kết quả:** Đưa ra thiết bị xuất chuẩn một số nguyên – số lượng cá thể tảo theo mô đun $10^9+7$."
      ]
    },
    {
      "cell_type": "markdown",
      "metadata": {
        "id": "VKYUxyVDBrrd"
      },
      "source": [
        "###1.ABSTRACTION (TRỪU TƯỢNG HÓA)\n",
        "\n",
        "Với số lượng tảo biển ban đầu là  $n$ ($1 \\le n \\le 1000{18}$). Tìm số lượng số cá thể sau $k$ ngày vòng lặp theo một quy luật cụ thể\n"
      ]
    },
    {
      "cell_type": "markdown",
      "metadata": {
        "id": "CMavipB0yUTd"
      },
      "source": [
        "###2. PATTERN RECOGNIZATION (NHẬN DIỆN KHUÔN MẪU)\n",
        "\n",
        "\n",
        "- Đặc điểm nhận dạng:\n",
        "\n",
        "Với số cá thể `n = 1`, ta có bảng sinh sản dưới đây\n",
        "   \n",
        "| NGÀY \\ MỨC      |  1    |  2    |  3    |  4    |  5    |  6    |  Tổng  |\n",
        "|:---------------:|:-----:|:-----:|:-----:|:-----:|:-----:|:-----:|:------:|\n",
        "|      0          |   1   |   -   |   -   |   -   |   -   |   -   |    1   |\n",
        "|      1          |   1   |   1   |   -   |   -   |   -   |   -   |    3   |\n",
        "|      2          |   3   |   1   |   1   |   -   |   -   |   -   |    5   |\n",
        "|      3          |   8   |   3   |   1   |   1   |   -   |   -   |   13   |\n",
        "|      4          |   21  |   8   |   3   |   1   |   1   |   -   |   34   |\n",
        "|      5          |   55  |   21  |   8   |   3   |   1   |   1   |   89   |\n",
        "\n",
        "Mặt khác, ta nhận thấy dãy số Fibonacci với công thức truy hồi của dãy tương ứng:\n",
        "$\n",
        "F(n):=\n",
        "  \\left\\{\n",
        "   \\begin{matrix}\n",
        "    1\\,,\\qquad\\qquad\\qquad\\quad\\,\\ \\ \\,&&\\mbox{khi }n=1\\,;\\ \\ \\\\\n",
        "    1,\\qquad\\qquad\\qquad\\qquad\\,&&\\mbox{khi }n=2;\\ \\ \\,\\\\\n",
        "    F(n-1)+F(n-2)&&\\mbox{khi }n>2.\n",
        "   \\end{matrix}\n",
        "  \\right.\n",
        "$\n",
        "\n",
        "Áp dụng công thức trên, thu được dãy số như sau:\n",
        "  \n",
        "|  GIÁ TRỊ \\ k |  0  |  1  |  2  |  3  |  4  |  5  |  6  |  7  |  8  |  9  |  10  |  11  |\n",
        "|:------------:|:---:|:---:|:---:|:---:|:---:|:---:|:---:|:---:|:---:|:---:|:----:|:----:|\n",
        "|    Fibo(k)   |  0  |  1  |  1  |  2  |  3  |  5  |  8  |  13 |  21 |  34 |  55  |  89  |\n",
        "| Fibo(2k + 1) |  1  |  3  |  5  | 13  | 34  |  89 | 233 | 610 |     |     |      |      |\n",
        "\n",
        "Từ hai bảng trên, ta suy ra được `kết quả` của `n` cá thể sau `k` ngày là: `n * Fibonacci(2k + 1)`"
      ]
    },
    {
      "cell_type": "markdown",
      "metadata": {
        "id": "JybENqLCOD3a"
      },
      "source": [
        "### 3. ALGORITHM DESIGNED (THIẾT KẾ THUẬT TOÁN) \n",
        "\n",
        "**INPUT**:\n",
        "\n",
        "Hai số nguyên dương $n,k$ ($1 \\le n \\le 1000, 1 \\le k \\le 10^{18}$).\n",
        "\n",
        "**OUTPUT**:\n",
        "\n",
        "$n$ x  $fibo(2$ x $k+1)$ \n",
        "\n",
        "\n",
        "####3.1 **Phương pháp:**  Sử dụng ***đệ quy:***\n",
        "Sử dụng vòng lặp để tìm dãy số Fibonacci. Tuy nhiên với n số lượng các số trong dãy lớn $(n \\le 10^{18})$  thì việc áp dụng vòng lặp sẽ dẫn tới tiêu tốn thời gian, bộ nhớ đáng kể. Ta phải tìm kiếm một giải thuật mới hiệu quả hơn.\n",
        "\n",
        "#####3.1.1 *Độ phức tạp thuật toán*: $O(2^n)$\n",
        "\n",
        "#####3.1.2 *Mã giả*:\n",
        "```\n",
        "fibo(n)\n",
        "begin\n",
        "  if n <= 1 then\n",
        "       return n;\n",
        "  else\n",
        "       return call fibo(n-1) + call fibo(n-2);\n",
        "  endif\n",
        "end\n",
        "```\n",
        "#####3.1.3 *Code*:\n"
      ]
    },
    {
      "cell_type": "code",
      "metadata": {
        "id": "Si4_STQqwjPr"
      },
      "source": [
        "def fibo(n): \n",
        "    if n == 0: \n",
        "        return 0\n",
        "    elif n == 1: \n",
        "        return 1\n",
        "    else: \n",
        "        return fib(n - 1) + fibo(n - 2)"
      ],
      "execution_count": null,
      "outputs": []
    },
    {
      "cell_type": "markdown",
      "metadata": {
        "id": "147gPz_jQ_03"
      },
      "source": [
        "\n",
        "\n",
        "\n",
        "####3.2 **Phương pháp:** Sử dụng ***nhân ma trận vào số Fibonacci lớn***\n",
        "\n",
        "Ta biết rằng, ma trận nhân Fibonacci được định nghĩa như sau:\n",
        "\n",
        "\n",
        "\n",
        "  \\begin{equation}\n",
        "    Q^n=\n",
        "    \\begin{bmatrix}\n",
        "    F_{1} & F_{2} \\\\ F_{0} & F_{1}\n",
        "    \\end{bmatrix} \n",
        "    =\n",
        "    \\begin{bmatrix}\n",
        "    1 & 1 \\\\ 1 & 0\n",
        "    \\end{bmatrix}\n",
        "  \\end{equation}\n",
        "\n",
        "\n",
        "\n",
        "\n",
        "\n",
        "trường hợp $F_n$ là số Fibonacci:\n",
        "\n",
        "\n",
        "  \\begin{equation}\n",
        "    Q^n=\n",
        "    \\begin{bmatrix}\n",
        "    F_{n+1} & F_{n} \\\\ F_n & F_{n-1}\n",
        "    \\end{bmatrix} \n",
        "  \\end{equation}\n",
        "\n",
        "\n",
        "hay:\n",
        "\n",
        "\n",
        "\\begin{equation}\n",
        "    \\begin{bmatrix}\n",
        "      1 & 1 \\\\\n",
        "      1 & 0\n",
        "    \\end{bmatrix} ^ {n}\n",
        "    \\begin{bmatrix}\n",
        "    F_1 \\\\\n",
        "    F_0\n",
        "    \\end{bmatrix}\n",
        "    = \n",
        "    \\begin{bmatrix}\n",
        "    F_n \\\\\n",
        "    F(n + 1)\n",
        "    \\end{bmatrix}\n",
        "\\end{equation}\n",
        "\n",
        "\n",
        "\n",
        "\n",
        "Áp dụng lũy thừa nhanh cho phép toán ma trận để bài toán có độ phức tạp là $O(log(k))$. Ta suy ra được mã giả như sau:\n",
        "\n",
        "#####3.2.1 *Độ phức tạp thuật toán*: $O(log(k))$\n",
        "\n",
        "#####3.2.2 *Mã giả*:\n",
        "\n",
        "#####3.2.3 *Code*:"
      ]
    },
    {
      "cell_type": "code",
      "metadata": {
        "id": "2lGXBPxpjsmX",
        "colab": {
          "base_uri": "https://localhost:8080/"
        },
        "outputId": "0893a674-2d8e-436f-bfbe-a3da99b63d52"
      },
      "source": [
        "class MatrixFibonacci:\n",
        "    MOD = int(1e9 + 7)\n",
        "    Q   = [[1, 1],\n",
        "           [1, 0]]\n",
        "\n",
        "    def __init__(self):\n",
        "        self.__memo = {}\n",
        "\n",
        "    def __multiply_matrices(self, M1, M2):\n",
        "        a11 = M1[0][0] * M2[0][0] + M1[0][1] * M2[1][0]\n",
        "        a12 = M1[0][0] * M2[0][1] + M1[0][1] * M2[1][1]\n",
        "        a21 = M1[1][0] * M2[0][0] + M1[1][1] * M2[1][0]\n",
        "        a22 = M1[1][0] * M2[0][1] + M1[1][1] * M2[1][1]\n",
        "        return [[a11 % self.MOD, a12 % self.MOD],\n",
        "                [a21 % self.MOD, a22 % self.MOD]]\n",
        "\n",
        "    def __get_matrix_power(self, M, p):\n",
        "        if p == 1:\n",
        "            return M\n",
        "        if p in self.__memo:\n",
        "            return self.__memo[p]\n",
        "        K = self.__get_matrix_power(M, int(p/2))\n",
        "        R = self.__multiply_matrices(K, K)\n",
        "        self.__memo[p] = R\n",
        "        return R\n",
        "\n",
        "    def get_number(self, n):\n",
        "        if n == 0:\n",
        "            return 1\n",
        "        if n == 1:\n",
        "            return 1\n",
        "\n",
        "        powers = [int(pow(2, b)) for (b, d) in enumerate(reversed(bin(n-1)[2:])) if d == '1']\n",
        "        matrices = [self.__get_matrix_power(MatrixFibonacci.Q, p) for p in powers]\n",
        "        while len(matrices) > 1:\n",
        "            M1 = matrices.pop()\n",
        "            M2 = matrices.pop()\n",
        "            R = self.__multiply_matrices(M1, M2)\n",
        "            matrices.append(R)\n",
        "        return matrices[0][0][0]\n",
        "\n",
        "mfib = MatrixFibonacci()\n",
        "n, k = map(int, input().split(\" \"))\n",
        "print(n * mfib.get_number(2 * k + 1) % mfib.MOD)"
      ],
      "execution_count": 1,
      "outputs": [
        {
          "output_type": "stream",
          "text": [
            "3 2\n",
            "15\n"
          ],
          "name": "stdout"
        }
      ]
    },
    {
      "cell_type": "markdown",
      "metadata": {
        "id": "XlRt5azgkE06"
      },
      "source": [
        "Kết quả Submit:\n",
        "\n",
        "\n",
        "![14.png](data:image/png;base64,iVBORw0KGgoAAAANSUhEUgAAAbQAAANaCAYAAADh5bmdAAAAAXNSR0IArs4c6QAAAARnQU1BAACxjwv8YQUAAAAJcEhZcwAAEnQAABJ0Ad5mH3gAAJisSURBVHhe7P0LeFNlvjf8fy3pkYANtWMLLe7CpkLBUhBL2XVgC+xptxxGUOfyceYVR/fgeJjZcynP/Gdfcj3vPAz+/w6OXh5QHny34+BWNi9gi9pawkMr6UztwVJCJBEDbaQNNFh6SkKbnvD/W8kqpG2qkGmf0bW/n+sKWfdv3WutpKT59l5N73Xd1NS/+wpiYKAfq+78Z/zuf/5PTJ2arJSIiIi+My4HWl9vL44d/QTTpk31ryAiIvouiVDv/RhmRET0XTUk0IiIiL6rGGhERKQJDDQiItIEBhoREWlCRPylv4Nym/QVP6pPRETfXRyhERGRJjDQiIhIEyJW/TgHyu32/FvUEhER0XcPR2hERKQJDDQiItIEBto4Gui9iN4BtUEjDVxED78+3y78P6HvsPENNPnm8HV2wuftwbV/j/SjJ6ztvj16Sj/ExTa18Vfo9V6Ur8bV+I59zWwfwmtTl+nbYRz/T0K9jnu98v4g7xEMURoLE3Jzb/+tsnDR68W6dXf5i2PGcxYXT9Wh+7VziPinGYhUyyN4zWj9oB1xGYlqQXjr0PFoLb5aPwfRailcA95TcP/xfXi9NyHu72LVangulvwHOv6zDl2VLbh060xEj/qkgL7TNgxMnYvYiWphuG4HOt4ogvvDOlw8MYAJ2VOhU1dd8SXcmw9j4J/mfvPXIcTXzFdbAHfHHMQGfWmHakPHc2/AvasGFz+Qm3cSJk77HBf+Vb5eH1jRfek6YFYSIq/yR58B72foeKEInvfN8E1PR9wNUeqaEL60oRtzEXej2h6m68h/wN01H3HKY5c32gvWhL/6/+//NN/pv6DzBRN6s+YjRnnoA23o3L0fnnfl+8IXjwmzDNDJc/vyaWPg63+yF9flTseA7RDat3+Ei0dcuJQzy/866/n8EDpeK8fFy6+9flz8+F10vlaJi5YuXJc93f//NOKYfhfl//iP8HTM+Pqv4Tf8nyj/D/7HeuRz+HRxiLgpAbqrem2Eeh33oOf0KfS8X4SeuOzRjxm2TnT+8T/h+eAouj67hOsWTL3q1zF9N4UdaP0tp+D5rAk9HZcQkTgJE+Rnr67PLej6woW+yBsQPVFeOTEGxEz1wfe/LyLSH2g96LI1oT/RIMud8pOgDF+iLsD7yQn01chPb5MuoqcnFjET2+CxdiMi5+8QOVXpG+Br/FQCshm9/bHQXR+DfpdD9tgHn0W+Kb6ahOjJod48Hejc9QWum/wl+nU3Y+KsUdKl0wFvVwR6T59EtycKkVMi4fu8Hn2GBP83Qa/rM3R1G6CfvwATly2Qx1gH94nE0fcnvinQvO8fQN/3NyDxLtmnGmbKcboHEhEVo+TdZ+ibGIeBsjO4LisKPZ+dw4DhRkR1yWNt7YbvjAcD/V/I49UjOubCiK9Zt8OMniNW9F+MQn+3C/0Tk/z7HUq+3rnZuE5nkTebnyNxhaSH/ADg7ZiL7/3PPEy4rkbefHsRuehG+T+WkDktQYUkRI/ynhgxIP8HS3MQvzIG3f+jFgOrbx49iL/hzbPvs0/kNbEwsN5lhrdtuv/rPfg68L9WDIEnNFgbfO11O07J124AvmOn0OuveeB1dOGS57T0c+PSjcr/60Vc/FQeQ5NLfU1dB5/jS/S21suIQV4Lytfb32/k/hU9Zz9Fl/K1D/m6E40mdJ6UZy/7ue72hf7Xga98D7pvuAeJD2Rj4FgRfPHzEdtlxsVpq/C9J+/ARAkz5f9uIOoGxOX/A+Kmfgb34QhMnHtOQqobcb9dj0mpn8sPQf2IyboRX01OgX7VP0DXVYqLTTMwMaJ6xDEVPZ8WodsZg+tipiPua16z3xho8v/gf6yP/4OEW6G8b0jfiU3wdMnrtPEEulojoLthIiJGvB/I6/V/D3sdR+oQmZiES60W9E9W/5/F4HvL4Pd5j8OB3i4nfJ7r0H+mAX2TlW2lY/c5uE96gBsnhfhBUBGDmAXK9+tCXOd6H919i8YhNOnbJLyfV7zVaP+P84iclYbo6Qn+N7ruI/8p3/DXI3rW9ejf/p/o6Ax0HaoTPX+qlQhSNMryZ+jXfw/RN10PTEmQbWV/SfLNNiEBUfJNN/D2YF/5Bj/9vnwTD8gxp+KrD/eh47S88I+VwvPCp7jOf0wj3GrfodJg+NkKRMWHfslf1liLi//9EPqnTAUOF6DDocNXJ0vRdaxHVvag+/+tkjcZZR/96GlxwFPdj8gF3/NvGq6oOddj4P89BLfrymnC/mMV6GkMLPcZZdn/dWxE78dAZMKX6NpeLW+u8lj/owFfnfgQF6096D9Qha4QX7PIpDRMSNLhuhT5usrXNlKvrrgG0TdnQdeg/OCg6ERvcZWEbqAVUuz1iFVeEIrkif7XxphyfAh3he7Ka0X02grgOSbBIq+Dvhf2obNX+drJCPMlu7w2otH73IfwKK+3f92Li1/eiMgBeVMuVc4F9wPXT5XtvodL/yEj2TZ5fb5eAF+HFz3/owqXvLXotoXev/+4VfL/c/JioBHK9GVI+Oc0RATl3aXeAVynpkz0TfIaGzwl3WBHZ+0pdKn7jr7++stv0tclyPfH2WZcypWRd7eMgN+QF8iZc/7/kxjpN/g1jlD6hTimJDO8B2V0u2aKWhgbE6ZIcCovXHk9dv33veiNkuPWvY9O+d4M/X4w7HWslIZrMaH93c7A9/kH8rU+q/xfFqDrpPzo+lKxBFuz7PvLQF/XCfjeb/j6U+wDMgqUHzy67d9D5N+rNdKs8AItNhU67wlcfLcWvd0T5BtKXjR1MYiSb6SY69Mw8U6d/LSm9v0mEybKNvItGR3n/+aMiZVv4wnR/m/o64K+KbuPy4v8rizEXf89XH/ndHx1KvCi1q1bAb0cU3dTm3I2J3BKZON2/631Gn8XcN09yxA/TfafK0Fz8ktM/Md5+KriU/T2fiohcYscW+l1EX1n5LszWb5XLPKTpn/L8ERlrMeUR2fh0ke70brFhK5RdzYd0T+chbi0W6BrkTcFqVw3Px2R8fKmt2A6rlPe0UJ8zXQSLhPiJNAmyddV1kWHlS6yvbzx+68Ci+sR/68/R0LGqGOugIFOGRXXImLjCsSppTGTlIoJFRXwHjmJ/oHAW76v6hy++uKYvB6P4RJa0S9vqMpjjXzwdnltzMGk/7FCxqFi9izELvoe4mZMwVfO81KQ7Z0Sbu9Wod8rTeXrPyCBt0i+jvPTcH3C1+0fmHS3MqK9th9q4r6/AhPK30TL//0f8JSrP/Vl3InJP7kF0clt6Pq39+FRXwcDXjM63p+IiT+QY3i9+KquFG07ziHq6bUSCoE+iv6zMjo7swj6Uf6U1CPfpxEPLhuz/4uv3tiLL3/1v+A+Jd8TiwKvhevuyUN82vWIu/u/QZ822vvByNfxcF0yov6qtRHd7/4F/R396Lcq39TyOs+cjogZsv2MCfJ6VKX9AN97+vavf14DrehtHpCfkeX79vTX/PBBmhBeoE2YCsP/+DkM/20OBrb/Ce1t0YiIk2845U1B9LfIz15fc5rer7tL3hyuXkRcPy6p3/8DrZ34KjbEm6ryRiBvDt97/Qn/LSEjUB6Nr/EULnarjSC9Xf2ISJT0uv42REF+ui35DMi9RZYV10O/KAvxq+cAH51SRy7h08k3fPx/+ylivif7Gvxp3e8iLnWoi5f58FXQT+T/Jwy4PkPftOkYPFPZ3/0Nn9z0h1kB+nPXw5Ck1v4KX6mfIhiQ++uU//PYW5Cw/V8w+ftx6PnvMqqSdddFxcgPNuuR8NB63PD/G/n/HqWfOPKUVG8/emvfR5d3EeJlu7jc0Yevo+1f+RTrNX+YITYNhn/9KRL/53roJiVgQprU/D/UyQ8d0+ZBl9iKAXlN+sPshUZEPSE/FCj/4dO/h+t6p2Pif1+BSWiSr0dgBKeEWcfuaMRtkEBU9j/CZ+j9qBN9T8sPeb85gX4JowtHhrzQrtl1D/8I33tRwnyD/IA57MU4IWqi/OD0Te8Ho7+OI6ImIGLlKv/XOuHpn+N7P/iaUaUy+ur+ho9LRU3FJOX7NW8qBj652p+y6bsqvN+htdWi9Y9V6Dl5Rr75piJ65QzETXfj4vN/hu9zi3yTL8Tk5Tei/9ND6Cyux8DRC+j3yG1WJiK/qkT3e/XoMp/FV57rEaX8bi0mBr3FR3DR8QW622IQF21H634L+o/KN7enEX3fk5+y5+jQ/dKH6G48iYvHkqD/8c1Afd3lc+89tXX4KuPK7wyuCHzoofuDi/jq2OcyCpqEibconzJwwP3kAfQmzMXEv5O36y9t8P7n5+hx2eBrSMXEH8rjitAh0nAG3pdjEPvEXERHdML93ofwfvwZut7/Atf9X/+E67/mQw/f9Ds0z3++Cc8nDnR/XIs+XwbiVqYgLq4d3h0V8B1zyIizBxG5c3GdRUbCJxrhKzuF6+7Ow/UDEsTuv5OAla//1L+T96wvoUtugXvY1yxmsrxBTGpH12uyv7N29MbPVX6tOUzgOfkqLuCS4xx8101E3A1tuLjnFHz2Olz8izz3f5Wf7pXfWcjXsvN//Du6Y+Zj4k2hn3fX4bfR9Za8mX163P8hB9/M7MCHOkL5ht/XRMb3oevNj9D9hV1+cpc3/fvkTfvzUlz4wIzek824lDhDRlxTMTG5DxdfU/rVy9dSnn/2dGDE6+FLdA/+LrfLgYufTcTkW+V1/3ad7EteszU+TPjHdODjM4j4pxtwqVZGU9Mv+B9ffNbI/Svh4d31Ci7ak+X1NOKLGtD2F1z411L02y9ioKYOPbPkaxH7Kdr+n0PwvC//lz9cDcNU+TqerZbXew26P6zDpX+Q/9/0Prj/7wL0fXER/YeVD+vI/83dt0N3/iN0/W/5HilxYsLDq6DXf4b2H/1ZgvUC+j5UP1AypxGdQ46phEM2Jq6R2z9IACctxw3y/Eb1Tb9Dk/XKa2/I745D1HQpw98P4tFfOex1fIMLHX8sRc+xK6+9yUumwff/FOPiF/J9Id8DfTfNwnVW5f9Svt+V17n8MNF/7sbA7wFPvo/W/88ZfLV+1ihh3ujf/8VjJ3DxcDei7l+GmDBOu9N3x3X//de/8Z9NOu9yYdeuN/3F/5I+3YcvncvwvX8eegqpp/o/0dm2YkT9anSV7EPPonthGPUThv/Fyde8FfcigbOufXvw/4S+w8I75ahFEyYiQvn93WUyGvlf/w53QxYmK7/DCIcMD/y/36LQ5Gv+f/T8KX0z/p/QdxhHaEREpAkcoRERkSYw0IiISBMYaEREpAkMNCIi0gQGGhERaQIDjYiINIGBRkREmsBAIyIiTWCgERGRJjDQiIhIExhoRESkCUPmcvzt1v+vv0hERPRdw8mJiYhIE3jKkYiINIGBRkREmsBAIyIiTWCgERGRJjDQiIhIExhoRESkCQw0IiLShIiJcTFQbjExUWqJiIjou4cjNCIi0gQGGhERaQIDjYiINIGBRkREmsBAIyIiTWCgERGRJjDQiIhIExhoRESkCQw0IiLSBAYaERFpAgONiIg0gYFGRESawEAjIiJNYKAREZEmMNCIiEgTGGhERKQJDDQiItKEsALt2PvAim1Xbpuq1BVXafdewKUuj6ajAXhmB/Bhq1ogIiL6GmEF2oK1QOmvgeXRwDty/4ecQL3jLFBmkcALCqHBWlmTNHplnbL8BfCxcm8HfIFuQ0nfV88A8bKy45JaIyIi+hpjdsrRdxLYbAMWzgDq9khYSXhBQunxo4HawkRp64A0WU6KBOYotRQgxr/1MKnA03cABp4QJSKiqzRmkfHZCaD9PPDGQcAh7coG+edGIOMUsLVC1vVLW44Wrwdi5d4g9/FxypZERER/vbEbA8noa/ky4Kl7JMAelxHWbKnJ8Ovpp6SdDRTsBI4FehIREY25MQu0BbkySisCNu8Hnt8ty0rRDmyS9qulMmqbBqT5e0rwychts/R5XvqH/HBIq2y3TYJQ7re+IdvLfoiIiL7Odb/97W+/UhbOnTuHnTtlGEVERPQdNHanHImIiP6GGGhERKQJDDQiItIEBhoREWkCA42IiDSBgUZERJrAQCMiIk0IL9AueeGsNqKwuhndammI/nYcP2yE0dauNOA6aUGtWW6N3sD6cdBaUYzyUDPzy2Oxn2xBn9p0O+tQWFwHp/LAL7XDerjY/zzcg5MgS+1y/yHPYzgvHP7n44OzUe3fWo1XCtW/Au9tgVV5zmZ74FhERDSuwgo0d8VhmG/KQ36kCe/UKZM0DmUtMaEvNw9zz0hYnJNQqG1HSlYmFk3Xqz2Gcjvt/sBzdKqFYN3NgWCwBcLTfa4ZzvorbX8Ayfrj9e3oHlAKwZpRbqxDZY1NmXwE6KxAkS0V65brcPBdC86bjHDMW4V10Sbstfk3gKOsBuWfB/oPfR6B9Vc0orS8Aa6PDsIalYhIJeCaYrHk1qmB1R02VF5IxqKZ7Sh6j1OdEBGNt7ACzdERizSfhICjH3Ftw0cvLXBiOpI+P4BSJRXadIi91IQ/f2BE2RehLhZjR1GZF/Ml8NImqaVgkYlIz8zEXI8JhaeUwNkPc2wGUpwm/4jMWmyC++ZMZCTp1A2CJWPpqkwkDT7LJi9iU3wwFjagP6odX+VkonXPK3imOhH5GbK+0Yja+GW4baLSefjzUGrD1BehKGol8pKUhh5pWTqYyxv9qxTuE0bs2mNB7LzpaoWIiMZLWIGm65YRVUcmNvxgFiInDA8SabsssMbnY8NiA/ojDFj6wE9w75qF6CqvDjF3YzrWrQSK3nob+2wjA6/PXopdJXWwujzo6lEqiUidKsdQHvmAhE6nASmxSv0qRHTDZmnHovtWIiMS6KmzI+FHj+IXt7Wg1Nwhozk7Wk8XofSEDQcqJcGGPA91H8HSFiO16Shco1yzbfK8PGx4OB9x5uNwqzUiIhofYQXa3AXpaLVbUPjeBaTnGPw1694t+L1JGa0ZsGReDBzWauyu1uP7s71wWCyoPGRC66wM+AczQzTDagNS0/To8ow8fdndKfuM7oPLFer3WImYP60ZxuJi7DvqUWvBvLCWGGFukoAqscM9W0ZybQ2oLSnC+VmLYYjwwXnMgtrT/Ui4IR5Lf/YL/Py+e7BiXgbuWnLzsOeh7jJYRDLyfjgJxr02dCunN/dUwNlUgV2Vzf7VgRFaKVpTZ2Cyv0JEROOFkxMTEZEmhDVCIyIi+rZhoBERkSYw0IiISBOum3nzXP/v0Hp83Wj6ot5fJCIi+q6J6O66COXW4wv1N2JERETfDTzlSEREmnDd1NS/859y7OvtxZeus/7iVWkrw++OmLHsjiex1P+naF7Uf/I6XjrbiB5dBh7N3Ygsw8gaLA9gi38eKpHwGxQsA94seBYfQI+Z8Wvx0K356DEH9REZ01/E1kVT1BYREdFIYQea55Mt2NERhZaEJ/DcQj16LM/il577sTNXneZpAOixjqyZy36F+ltexN2X/8LajG0HGvHQXWtxw9n9eOREEl7Oux3RwXW1JxER0WjCPOXYBtOFJKxZcjsmn6uBMkfHMZcLa2YFzVk4IXRN2ba+qQZVn9bA3NzrL192/RQkjjKNFBER0dcJL9DaamDSZWOOPgs5KENVuxee3iRMHjKZfqjaKHx/wsaCx/DTI6exOlsZnREREV2bsALNU/8XVHW+gPUSQjt8ZhxyAHMMLlQ5gq93pg9RU0zBzNRs5NySjazkqEAp5kG8vv41vLl6I3ISAiUiIqJrEVagmc7r8dydb6FgvdxWPAmcNyNx/kYk1j+GR4zbsa1ku//SLikhasp1xA5ZtuOlMrnVXbnUChER0V8j/E85EhERfYvw79CIiEgTGGhERKQJDDQiItIEBhoREWkCA42IiDSBgUZERJoQVqAdex9Yse3KbVOVuuIq7d4LuNTlkPqBD/cAP3712vdNRET/Nf1Vf4f2zEvAw/8KDM4z3CGb17UChmnAAnXGj8EaDMDyGyUMTwKvHgTuzAfiY4B/SAfkbqhLsl2XrNcDBTtk/f8l/a9mCi0iIvova8xOOfokqDbbgIUzJMBkdFWmzDt8Bnj8aKC2MFHaOiBNlpMigTlKLSVEmCnkUSlh5ifbGOLUZSIiolGMWaB9dgJoPw+8IaMvh7QrG+QfGZFlnAK2Vsi6fmmrQRUr9wa5j/+GoHKUyn5zgSVj9iiJiEirxi4qZCS1fBnw1D0SYI8DT8+Wmgy/nn5K2tlAwU7gWKDnVVHC7NWJsn2GWiAiIvoaYxZoC2Qk9VkRsHk/8PxuWVaKdmCTtF+VcHJMA9L8PQO/S9ssfZ6X/iE/HHIS+AeTBGB5eB86ISKi/3o4OTEREWkCfztFRESawEAjIiJNYKAREZEmMNCIiEgTGGhERKQJDDQiItIEBhoREWlCRGzcRCi36JiQsyqGdskLZ7URhdXN6FZLQ/S34/hhI4y2dqUB10kLas1ya/QG1o+D1opilCuTIA8nj8V+sgV9atPtrENhcR2cygPvbAo8LrMdLmXuyUvtsB4u9j8v9yV/d6C7GdaQj9sLh7/ug7NR3X9rNV4ptCtLQG8LrOq+/cciIqJxFfGj9Wuh3P5JmbfqKrkrDsN8Ux7yI014p06ZpHEoa4kJfbl5mHtGwuGchFttO1KyMrFoeugp891Ouz9YHJ1qIZgSKEow2ALh6T7XDGf9lbYSQnZZf7y+Hd0DSiFYM8qNdaisscGfdZ0VKLKlYt1yHQ6+a0FfUwXMOnlcWelIipI8MhnhmLcK66JN2GtTNvCh8rAJlScblcYwjSgtb4Dro4OwRiUiUgm4plgsuXVqYHWHDZUXkrFoZjuK3lNDjoiIxk1YpxwdHbFI88mbvqMfcW3KKCxYC5yYjqTPD6BUSZE2HWIvNeHPHxhR9oUv0GUIO4rKvJgvgZc2SS0Fi0xEemYm5npMKDwlxy7bD3NsBlKcJv+IzFpsgvvmTGQk6dQNgiVj6apMJA0+yyYvYlN8MBY2oD+qHa26SXCfMGJfiQWtMiJLyMlE655X8Ex1IvIzJEtrS+GavwKpo32V6otQFLUSef7r5+iRlqWDufxK+Cn73rXHgth509UKERGNl7ACTdctI6qOTGz4wSxEThgeJNJ2WWCNz8eGxQb0Rxiw9IGf4N41C9FVXh1i7sZ0rFsJFL31NvbZRgZen70Uu0rqYHV50NWjVBKROlWOoTzyAQnPTgNSYpX6VYjohs3SjkX3rURGpGTl7FV48r483JtsQ6GMyNx1diT86FH84rYWlJpPofDIObg/NsJ8QhnZhTjtmLYYqU1H4Ro8PTnM5Hl52PBwPuLMx+FWa0REND7CCrS5C9LRareg8L0LSM8x+GvWvVvwe5MyWjNgybwYOKzV2F2tx/dne+GwWFB5yITWWRmXLwZ6RTOsEiapaXp0eUaevuzulH1G98HlGj4SVCRi/rRmGIuLse+oR60F88JaIoHUZMOBEjvcs2Uk19aA2pIinJ+1GAlfNqDSXIHdZgnddOke4YPzmAW1p/uRcMMs3L/pZ9gggZc1LxerM0KcLo1IRt4PJ8G414Zu5fTmngo4myqwq7LZvzowQitFa+oMTPZXiIhovFz3b//2b/7JiV0uF/74xz/6i0RERN81YY3QiIiIvm0YaEREpAkMNCIi0gQGGhERaQIDjYiINIGBRkREmhD+x/bbyvC7I2Ysu+NJLPX/KZoX9Z+8jpfONqJHl4FHczciyzCyBssD2DI452LCb1CwDHiz4Fl8AD1mxq/FQ7fmo8cc1EdkTH8RWxdNUVtEREQjhR1onk+2YEdHFFoSnsBzC/XosTyLX3rux85cdZqnAaDHOrJmLvsV6m95EXdf/gtrM7YdaMRDd63FDWf345ETSXg573ZEB9fVnkRERKMJ85RjG0wXkrBmye2YfK4GyhwdxyQQ18wKmrNwQuiasm19Uw2qPq2BuVmZ4j7I9VOQOMo0UkRERF8nvEBrq4FJl405+izkoAxV7V54epMwecjsUKFqo/D9CRsLHsNPj5zG6mxldEZERHRtwgo0T/1fUNX5AtZLCO3wmXHIAcwxuFDlCJ7AVx+ippiCmanZyLklG1nJUYFSzIN4ff1reHP1RuQkBEpERETXIqxAM53X47k730LBermteBI4b0bi/I1IrH8Mjxi3Y1vJdv+lXVJC1JTriB2ybMdLZXKrC3WdMSIiomvHyYmJiEgT+HdoRESkCQw0IiLSBAYaERFpAgONiIg0gYFGRESawEAjIiJNCCvQjr0PrNh25bapSl1xlXbvBVzqckhe4PkdwL+8CjxTq9aIiIi+RliBtmAtUPprYHk08I7c/yEnUO84C5RZJPCCZsofrJU1SaNX1inLXwAfK/d2wBfoNpQeeOpR4N8fB9L+DFSqZSIiotGM2SlH30lgsw1YOAOo2yNhpcw7fAZ4/GigtjBR2joJKFlOigTmKLUUIMa/dQiyvUP2V3eTBKhaIiIiGs2YBdpnJ4D288AbByWIpF3ZIP/cCGScArZWyLp+acvR4mX0FSv3BrmPj1O2DM3XLvuRbZJltHcs5DCOiIjoijELNGX0tXwZ8NQ9EmCPA0/PlpoMv55+StrZQMFOCaZAz6sSI2G4PBNYLyM55RQlERHR1xmzQFuQK6O0ImDzfuD53bKsFO3AJmm/WiqjrWlAmr+nBJWE1Wbp87z0D/nhkLOyTt3PM83A/elqnYiIaBScnJiIiDRh7E45EhER/Q0x0IiISBMYaEREpAkMNCIi0gQGGhERaQIDjYiINIGBRkREmhBeoF3ywlltRGF1M7rV0hD97Th+2Aijrd3fdDvrUFhcB2fIzmOjtaIY5UGTIl8mj8V+sgV9anPIY7nUDuvhYv/zcF8KrFdql/sPex5DeeFo9Mq9D85GtX9rNV4ptCtLQG8LrGYLas32cX3eREQUEFaguSsOw3xTHvIjTXinTpmkcShriQl9uXmYe0bC4pwPfbp0rMvT4eB76pv9MG6nXd74LXB0qoVg3c2BYLAFwtN9rhnO+ittfwDJ+uP17egeUArBmlFurENljQ3+rOusQJEtFeuWy2N514LzJiMc81ZhXbQJe23+DeAoq0H554H+Q59HYP0VjSgtb4Dro4OwRiUiUgm4plgsuXVqYHWHDZUXkrFoZjuKRnneREQ0dsIKNEdHLNJ8EgKOfsS1DR+9tMCJ6Uj6/ABKlVRoi0FCkh640IL+SZMCXYawo6jMi/lZmUgLtToyEemZmZjrMaHwlBI4+2GOzUCK0+QfkVmLTXDfnImMJJ26QbBkLF2ViaTBZ9nkRWyKD8bCBvRHteOrnEy07nkFz1QnIj9D1jcaURu/DLdNVDoPfx5KbZj6IhRFrURektLQIy1LB3N5o3+Vwn3CiF17LIidN12tEBHReAkr0HTdMqLqyMSGH8xC5IThQSJtlwXW+HxsWGxAv3IEjwX7yg2495+TA12GkNHbSqDorbexzzZyWv0+eyl2ldTB6vKgq0epJCJ1qhxD2e+AhE6nASmxSv0qRHTDZmnHovtWIiMS6KmzI+FHj+IXt7Wg1Nwhozk7Wk8XofSEDQcqJcGGP4/h0hYjtekoXIOnK4eZPC8PGx7OR5z5ONxqjYiIxkdYgTZ3QTpa7RYUvncB6TkGf826dwt+b1JGawYsmRcDh7Uau6v1+P7sJux74SCa+htQtLdaRj3DNcNqA1LT9OjyjDx92d0p+4zug8sV6vdYiZg/rRnG4mLsO+pRa8G8sJYYYW6SgCqxwz1bRnJtDagtKcL5WYthiPDBecyC2tP9SLghHkt/9gv8/L57sGJeBu5acvOw56HuMlhEMvJ+OAnGvTZ0K6c391TA2VSBXZXN/tWBEVopWlNnYLK/QkRE44WTExMRkSaENUIjIiL6tmGgERGRJjDQiIhIExhoRESkCQw0IiLSBAYaERFpQvgf228rw++OmLHsjiex1P+naF7Uf/I6XjrbiB5dBh7N3Ygsw8gaLA9gi38eKpHwGxQsA94seBYfQI+Z8Wvx0K356DEH9REZ01/E1kVT1BYREdFIYQea55Mt2NERhZaEJ/DcQj16LM/il577sTNXneZpAOixjqyZy36F+ltexN3+6aIUZmw70IiH7lqLG87uxyMnkvBy3u2IDq6rPYmIiEYT5inHNpguJGHNktsx+VwNlDk6jkkgrpkVNGfhhNA1Zdv6phpUfVoDc3Ovv3zZ9VOQOMo0UkRERF8nvEBrq4FJl405+izkoAxV7V54epMwWa+u9wtVG4XvT9hY8Bh+euQ0VmcrozMiIqJrE9Hl64Vy8/UMXjHsm3nq/4KqzhewXkJoh8+MQw5gjsGFKodyfbBB+hA1xRTMTM1Gzi3ZyEqOCpRiHsTr61/Dm6s3IichUCIiIroWEYbrJ0G5TdLHqaVvZjqvx3N3voWC9XJb8SRw3ozE+RuRWP8YHjFux7aS7f5Lu6SEqCnXETtk2Y6XyuRWd+VSK0RERH+N637729/6PxRy7tw57Ny5018kIiL6ruHfoRERkSYw0IiISBMYaEREpAkMNCIi0gQGGhERaQIDjYiINCGsQDv2PrBi25Xbpip1xVXavRdwqctfx2GS/cuxiIiIvklYgbZgLVD6a2B5NPCO3P8hJ1DvOAuUWSTwgmbKH6yVNUmjV9Ypy18AHyv3dsAX6DbSeeBV2c+CLrVNRET0NcbslKPvJLDZBiycAdTtkbBS5h0+Azx+NFBbmChtHZAmy0mRwByllgLE+LceqaAE+PFqwH9lGiIiom8wZoH22QmgXUZVbxwEHNKubJB/bgQyTgFbK2Rdv7TlaPF6IFbuDXIfP8psWx1Vsg8Z9S1Qp3okIiL6JmMWaMroa/ky4Kl7JMAeB56eLTUZfj39lLSzZcS1EzgW6PmNPpbR3ofq7+nekGX+Ho2IiL7JmAXaglwZpRUBm/cDz++WZaVoBzZJ+9VSGXFNA9L8PSX4ZOS2Wfo8L/1DfTjkzgcDv6NTbg9LMJauVVcQERGNgpMTExGRJozdKUciIqK/IQYaERFpAgONiIg0gYFGRESawEAjIiJNYKAREZEmMNCIiEgTwgu0S144q40orG5Gt1oaor8dxw8bYbS1+5tuZx0Ki+vgDNl5bLRWFKM8aFLky+Sx2E+2oE9twtMMa6M3sDzscfpdCuofav1lXjj8+/HB2aj2b63GK4V2ZQnobYHVbEGt2T6uz5uIiALCCjR3xWGYb8pDfqQJ79QpkzQOZS0xoS83D3PPFKPwnA99unSsy9Ph4Hvqm/0wbqdd3vgtcHSqhWDdEkBKMNgC4ek+1wxn/ZW2P4Bk/fH6dnQPKIVgzSg31qGyxgZ/1l20wVhbh7LyRv9aePqR8o/K45TQUsPQUVaD8s8D/Yc+j8D6KxpRWt4A10cHYY1KRKQScE2xWHLr1MDqDhsqLyRj0cx2FI3yvImIaOyEFWiOjlik+UzY6+hHXNvw0UsLnJiOpM8PoFRJhbYYJCTpgQst6J80KdBlCDuKyryYn5WJtFCrIxORnpmJuR4TCk8pgbMf5tgMpDhN/hGZtdgE982ZyEjSqRsES8bSVZlIGnyWEzOQd0caYtUmDIlI0PngatUhQTl2oxG18ctw20Rl5fDnodSGqS9CUdRK5CUpDT3SsnQwD4alcJ8wYtceC2LnTVcrREQ0XsIKNF23jKg6MrHhB7MQOWF4kEjbZYE1Ph8bFhvQrxzBY8G+cgPu/efkQJchZPS2Eih6623ss428OlqfvRS7SupgdXnQ1aNUEpE6VY6h7HdAQqfTgJTLCXWt+uE8fBBNt6/GoiivjObsaD1dhNITNhyolAQb/jyGS1uM1KajcF1S28NMnpeHDQ/nI858HG61RkRE4yOsQJu7IB2tdgsK37uA9JzAFcuse7fg9yZltGbAknkxcFirsbtaj+/PbsK+FyQ0+htQtLdaRj3DNcNqA1LT9OjyjDx92d0p+4zug8sV6vdYiZg/rRnG4mLsO+pRa8G8sJYYYW6SgCqxS6g0o3xPBZxNFdhV2Qx35dt42eyFu0pGWvIYlv7sF/j5ffdgxbwM3LXk5mHPQ91lsIhk5P1wEox7begetm9FYIRWitbUGZjsrxAR0Xjh5MRERKQJYY3QiIiIvm0YaEREpAkMNCIi0gQGGhERaQIDjYiINIGBRkREmhD+x/bbyvC7I2Ysu+NJLPX/KZoX9Z+8jpfONqJHl4FHczciyzCyBssD2KJOM4WE36BgGfBmwbP4AHrMjF+Lh27NR485qI/ImP4iti6aoraIiIhGCjvQPJ9swY6OKLQkPIHnFurRY3kWv/Tcj5256jRPA0CPdWTNXPYr1N/yIu72TxelMGPbgUY8dNda3HB2Px45kYSX825HdHBd7UlERDSaME85tsF0IQlrltyOyedqoMzRcczlwppZQXMWTghdU7atb6pB1ac1MDf3+suXXT8FiaNMI0VERPR1wgu0thqYdNmYo89CDspQ1e6FpzcJk/Xqer9QtVH4/oSNBY/hp0dOY3W2MjojIiK6NmEFmqf+L6jqfAHrJYR2+Mw45ADmGFyocqjXGfPTh6gppmBmajZybslGVnJUoBTzIF5f/xreXL0ROQmBEhER0bUIK9BM5/V47s63ULBebiueBM6bkTh/IxLrH8Mjxu3YVrLdf2mXlBA15Tpihyzb8VKZ3OquXGqFiIjor8HJiYmISBP4d2hERKQJDDQiItIEBhoREWkCA42IiDSBgUZERJrAQCMiIk0IK9COvQ+s2HbltqlKXXGVdu8FXOpySK2yz6D9H1PLREREowkr0BasBUp/DSyPBt6R+z/kBOodZ4EyiwRQ0Ez5g7WyJmn0yjpl+QvgY+XeDvgC3Ya6BDimB46h3BaoZSIiotGM2SlH30lgsw1YOAOo2yNhpcw7fAZ4/GigtjBR2jogTZaTIoE5Si0FiPFvHUJnIAg/c6ttIiKirzFmgfbZCaD9PPDGQRldSbuyQf65Ecg4BWytkHX90pajxeuBWLk3yH18nLJlCAmynx9L4E2Tkdw7wIcMNSIi+gZjFmjK6Gv5MuCpeyTAHgeeni01GX49/ZS0s4GCndfwuzA1+OIl2P4hVcLyS7VOREQ0ijELtAW5EjxFwOb9wPO7ZVkp2oFN0n61VEZtMtpK8/eU4JOR22bp87z0D/nhEK+M0JT9vCW3S8Djf6/WiYiIRsHJiYmISBMi2js9UG4eb5daIiIi+u6JiIuJgnKLiY5US0RERN89Y/ehECIior8hBhoREWkCA42IiDSBgUZERJrAQCMiIk0IL9AueeGsNqKwuhndammI/nYcP2yE0dbub7qddSgsroMzZOex0VpRjPKgSZEvk8diP9mCPrUJTzOsjd7A8rDHqehrbUCt2Q6XMhelojuo/xBeOPx1H5yN6v5bq/FKoV1ZAnpbYDVb/Psaz+dNREQBYQWau+IwzDflIT/ShHfqlEkah7KWmNCXm4e5Z4pReM6HPl061uXpcPA99c1+GLfTLm/8Fjg61UIwJVCUYLAFwtN9rhnO+ittXJLAkvXH69vRPaAUgjWj3FiHyhqbckUa4KINxto6lJU3+tfC04+Uf1Qep4Sa0uGcCQdOTsL8zHQkRSkdfKg8bELlSbX/EI0oLW+A66ODsEYlIlIJuKZYLLl1amB1hw2VF5KxaGY7ikZ53kRENHbCCjRHRyzSfCbsdfQjru3K6CagBU5MR9LnB1CqhERbDBKS9MCFFvRPmhToMoQdRWVezM/KRFqo1ZGJSM/MxFyPCYWn5Nhl+2GOzUCK0+QfkVmLTXDfnImMJJ26QbBkLF2ViaTBZzkxA3l3pCFWbcKQiASdD65WHRLk2C4Jyc6zpfhfb5fCKmnZXVsK1/wVSB3tq1RfhKKolchLUhp6pGXpYB4MS+E+YcSuPRbEzpuuVoiIaLyEFWi6bhlRdWRiww9mIXLC8CCRtssCa3w+Niw2oF85gseCfeUG3PvPyYEuQ8jobSVQ9Nbb2GcbeXW0PnspdpXUweryoKtHqSQidaocQ9nvgIRnpwEplxPqWvXDefggmm5fjUX+EVkisu65D7/I16Gy4hgKj5yD+2MjzCcqUGQLcdoxbTFSm47CdUltDzN5Xh42PJyPOPNx8IIBRETjK6xAm7sgHa12Cwrfu4D0HIO/Zt27Bb83KaM1A5bMi4HDWo3d1Xp8f3YT9r0godHfgKK91TJ6G64ZVhuQmqZHl2fk6cvuTtlndB9cruEjQUUi5k9rhrG4GPuOetRaMC+sJRJITTYcKLFLqDSjfE8FnE0V2FXZDHfl23jZ7IW7SkZaElhJ6YD5gzqU/blFRoULcP+mn2HDfXnImpeL1RkyyhwuIhl5P5wE414buoftWxEYoZWiNXUGJvsrREQ0Xq77t3/7N//kxC6XC3/84x/9RSIiou+asEZoRERE3zYMNCIi0gQGGhERaQIDjYiINIGBRkREmsBAIyIiTQj/Y/ttZfjdETOW3fEklvr/FM2L+k9ex0tnG9Gjy8CjuRuRZRhZg+UBbBmcczHhNyhYBrxZ8Cw+gB4z49fioVvz0WMO6iMypr+IrYumqC0iIqKRwg40zydbsKMjCi0JT+C5hXr0WJ7FLz33Y2euOs3TANBjHVkzl/0K9be8iLv900UpzNh2oBEP3bUWN5zdj0dOJOHlvNsRHVxXexIREY0mzFOObTBdSMKaJbdj8rkaKHN0HJNAXDMraM7CCaFryrb1TTWo+rQG5ubBKe1V109B4ijTSBEREX2d8AKtrQYmXTbm6LOQgzJUtXvh6U3C5CGzQ4WqjcL3J2wseAw/PXIaq7OV0RkREdG1CSvQPPV/QVXnC1gvIbTDZ8YhBzDH4EKVI3gCX32ImmIKZqZmI+eWbGQl+2cEBmIexOvrX8ObqzciJyFQIiIiuhZhBZrpvB7P3fkWCtbLbcWTwHkzEudvRGL9Y3jEuB3bSrb7L+2SEqKmXEfskGU7XiqTW12o64wRERFdO05OTEREmsC/QyMiIk1goBERkSYw0IiISBMYaEREpAkMNCIi0gQGGhERaUJYgXbsfWDFtiu3TVXqiqu0ey/gUpdH1S799gN3y/6PqSUiIqLRhBVoC9YCpb8GlkcD78j9H3IC9Y6zQJlFAihopvzBWlmTNHplnbL8BfCxcm8HfIFuQ0m/598DltwFvCv7X6CWiYiIRjNmpxx9J4HNNmDhDKBuj4SVMu/wGeDxo4HawkRp64A0WU6KBOYotRQgxr/1MLIvR7KEX6mM0mSfRERE32TMAu2zE0D7eeCNgxJG0q5skH9uBDJOAVsrZF2/tOVo8XogVu4Nch8fp2w5kktGeD5JujvvkFGajPA2m9UVREREoxizQFNGX8uXAU/dIwH2OPD0bKlJKD39lLSzgYKdV/+7sKQE2TRablEyopNQdHSqK4iIiEYxZoG2IFdGaUUymtoPPL9blpWiHdgk7VdLJZSmSTj5e0rwSUhtlj7PS/+QHw6ZJ/v7JLDtE9Vyv1itExERjYKTExMRkSaM3SlHIiKivyEGGhERaQIDjYiINIGBRkREmsBAIyIiTWCgERGRJjDQiIhIE8ILtEteOKuNKKxuRrdaGqK/HccPG2G0tQfaSn+bBbWN3kB7HLRWFKM8aFLky+Sx2E+2oE9tup11KCyug1N54JfaYVUe54n2wHp/u9j/vNyXlILoboY15OP2wuGv++BsVPffWo1XCu3KEtDbAqtZnrPZHjgWERGNq7ACzV1xGOab8pAfacI7dcokjUNZS0zoy83D3DMSDuf6UVtSga5pGVg0Xa/2GMrttMsbvyX0FFdKoCjBYAuEp/tcM5z1V9pKCNll/fH6dnQPKIVgzSg31qGyxgZ/1nVWoMiWinXLdTj4rgWn3jPCLY9zqc+IA6ckj0xGOOatwrpoE/b6J0X2ofKwCZUnG5XGMI0oLW+A66ODsEYlIlIJuKZYLLl1amB1hw2VF5KxaGY7it5TQ46IiMZNWIHm6IhFmk/e9B39iGtTR2GXtcCJ6Uj6/ABKlRRps8NxxoPyvXuwu64l0GUIO4rKvJiflYm0SWopWGQi0jMzMddjQqGEjqNsP8yxGUhxmvwjMmuxCe6bM5GRpFM3CJaMpasykTT4LJu8iE3xwVjYgP6odlyM6kdri9cfdp3n2pGQk4nWPa/gmepE5GdIltaWwjV/BVJH+yrVF6EoaiXykpSGHmlZOpjLr4Sf+4QRu/ZYEDtvulohIqLxElag6bplRNWRiQ0/mIXICcODRNouC6zx+diw2IB+OULs3y/Dv/zsJ5hrK8VxtdcV6Vi3Eih6623ss428OlqfvRS7SupgdXnQ1aNUEpE6VY6hPPIBCc9OA1JilfpViOiGzdKORfetREYkkLrqPqwwyOPTTULCVAPcdXYk/OhR/OK2FpSaT6HwyDm4PzbCfEIZ2YU47Zi2GKlNR+EaPD05zOR5edjwcD7izMfhVmtERDQ+wgq0uQvS0Wq3oPC9C0jPkUQQ1r1b8HuTMlozYMm8GDis1dhdrcf3Z89AUkcpjNWlMBsWQgY+wzTDapNwSdOjyzPy9GV3p+wzug8u1/CRoCIR86c1w1hcjH1HPWotmBfWEgmkJhsOlNjhni0jubYG1JYU4fysxUhwHsVeWS48Owv5s6R7hA/OYxbUnu5Hwg2zcP+mn2HDfXnImpeL1RkhTpdGJCPvh5Ng3GtDt3J6c08FnE0V2FXZ7F8dGKGVojV1Bib7K0RENF44OTEREWlCWCM0IiKibxsGGhERaQIDjYiINCGiy9cL5ebrGfzTYyIiou+eCMP1k6DcJunj1BIREdF3D085EhGRJlz329/+1v+x/XPnzmHnzp3+4lVpK8Pvjpix7I4nsdT/p2he1H/yOl4624geXQYezd2ILMPIGiwPYMvgnIsJv0HBMuDNgmfxAfSYGb8WD92ajx5zUB+RMf1FbF00RW0RERGNFHageT7Zgh0dUWhJeALPLdSjx/Isfum5Hztz1WmeBoAe68iauexXqL/lRdztny5KYca2A4146K61uOHsfjxyIgkv592O6OC62pOIiGg0YZ5ybIPpQhLWLLkdk8/VQJmj45jLhTWzguYsnBC6pmxb31SDqk9rYG7u9Zcvu34KEkeZRoqIiOjrhBdobTUw6bIxR5+FHJShqt0LT28SJg+ZHSpUbRS+P2FjwWP46ZHTWJ2tjM6IiIiuTViB5qn/C6o6X8B6CaEdPjMOOYA5BheqHMET+OpD1BRTMDM1Gzm3ZCMrOSpQinkQr69/DW+u3oichECJiIjoWoQVaKbzejx351soWC+3FU8C581InL8RifWP4RHjdmwr2e6/tEtKiJpyHbFDlu14qUxudaGuM0ZERHTtwv+UIxER0bcI/w6NiIg0gYFGRESawEAjIiJNYKAREZEmMNCIiEgTGGhERKQJYQXasfeBFduu3DZVqSuu0u69gEtdDsUl+wve/6t2dQUREdEowgq0BWuB0l8Dy6OBd+T+DzmBesdZoMwigRc0U/5graxJGr2yTln+AvhYuZeg8gW6DZEk+1P2r9y2TgeSL09kTEREFNqYnXL0nQQ224CFM4C6PRJWyrzDZ4DHjwZqCxOlrQPSZDkpEpij1FKAGP/Wo2iRwJS7OycHmkRERKMZs0D77ATQfh544yDgkHZlg/xzI5BxSkZZFbKuX9pytHg9ECv3BrmP/4aLZB/7s4wGl31D6BEREYkxCzRl9LVcwuepeyTAHgeeni01SaKnn5J2NlCwUwIq0PPquCUcu4AfJ6ttIiKirzFmgbYgV0ZpRcDm/cDzu2VZKdqBTdJ+tVRGbdOANH9PCT4ZuW2WPs9L/9E+HHLsMEdnRER09Tg5MRERacLYnXIkIiL6G2KgERGRJjDQiIhIExhoRESkCQw0IiLSBAYaERFpAgONiIg0IbxAu+SFs9qIwupmdKulIfrbcfywEUZb++W2/WQL+gKtcdFaUYzyoEmRLxt2bLezDoXFdXAqD/xSO6yHi/3Pw30psF6pXe4//HkM4YWj0Sv3Pjgb1f6t1XilUL00QG8LrGYLas32wLGIiGhchRVo7orDMN+Uh/xIE96pUyZpHMpaYkJfbh7mnpGwONeMcmMdKmtsCJU3CrfTLm/8Fjg61UKw7uZAMNgC4emW/Tnrr7T9ASTrj9e3o3tAKQQbduzOChTZUrFuuQ4H37XgvMkIx7xVWBdtwl6bfwM4ympQ/nmg/9DnEVh/RSNKyxvg+uggrFGJiFQCrikWS26dGljdYUPlhWQsmtmOovd4/RsiovEWVqA5OmKR5pMQcPQjrm346KUFTkxH0ucHUKqkQlsylq7KRNKoR7KjqMyL+VmZSJukloJFJiI9MxNzPSYUnlICZz/MsRlIcZr8IzJrsQnumzORkaRTNwg27NhNXsSm+GAsbEB/VDu+yslE655X8Ex1IvIzZH2jEbXxy3DbRKXz8Oeh1IapL0JR1Erk+S9vo0dalg7m8kb/KoX7hBG79lgQO2+6WiEiovESVqDpumVE1ZGJDT+YhcgJw4NE2i4LrPH52LDYgP5vPEI61q0Eit56G/tsI6+O1mcvxa6SOlhdHnT1KJVEpE6VYyj7HZDQ6TQgJVapX4WIbtgs7Vh030pkRAI9dXYk/OhR/OK2FpSaO2Q0Z0fr6SKUnrDhQKUk2Dc9j7TFSG06Ctfg6cphJs/Lw4aH8xFnPq7MtUxEROMorECbuyAdrXYLCt+7gPQcg79m3bsFvzcpozUDlsyLgcNajd3Venx/thfWEiPMTRISJfYQb+zNsNqA1DQ9ujwjT192d8o+o/vgcoX6PVYi5k9rhrG4GPuOetRasGHHni0jubYG1JYU4fysxTBE+OA8ZkHt6X4k3BCPpT/7BX5+3z1YMS8Ddy25edjzUHcZLCIZeT+cBONeG7qV05t7KuBsqsCuymb/6sAIrRStqTPAS7oREY0vTk5MRESaENYIjYiI6NuGgUZERJrAQCMiIk1goBERkSYw0IiISBMYaEREpAnhf2y/rQy/O2LGsjuexFL/n6J5Uf/J63jpbCN6dBl4NHcjsgwja7A8gC3+eahEwm9QsAx4s+BZfAA9ZsavxUO35qPHHNRHZEx/EVsXTVFbREREI4UdaJ5PtmBHRxRaEp7Acwv16LE8i1967sfOXHWapwGgxzqyZi77FepveRF3+6eLUpix7UAjHrprLW44ux+PnEjCy3m3Izq4rvYkIiIaTZinHNtgupCENUtux+RzNVDm6DjmcmHNrKA5CyeErinb1jfVoOrTGpibe/3ly66fgsRRppEiIiL6OuEFWlsNTLpszNFnIQdlqGr3wtObhMl6db1fqNoofH/CxoLH8NMjp7E6WxmdERERXZuwAs1T/xdUdb6A9RJCO3xmHHIAcwwuVDmU64MN0oeoKaZgZmo2cm7JRlZyVKAU8yBeX/8a3ly9ETkJgRIREdG1CCvQTOf1eO7Ot1CwXm4rngTOm5E4fyMS6x/DI8bt2Fay3X9pl5QQNeU6Yocs2/FSmdzqrlxqhYiI6K/ByYmJiEgT+HdoRESkCQw0IiLSBAYaERFpAgONiIg0gYFGRESawEAjIiJNiGjv9EC5ebxdaumbHXsfWLHtym1TlbriKu3eC7jU5ZAuAZUHgH/ZCTyxB3BwOiwiIvoGEXExUVBuMdGRaumbLVgLlP4aWB4NvCP3f8gJ1DvOAmUWCbygmfIHa2VN0uiVdcryF8DHyr0d8AW6DSX1P0wC/v0R4KlECUBpExERfZ0xO+XoOwlstgELZwB1MqoqU+YdPgM8fjRQWyjBBB2QJstJkp1zlFoKEOPfepi/k3Wyrzc+Bl5tANanq3UiIqJRjFmgfXYCaD8vIXQQcEi7UoIINwIZp4CtFbKuX9pytHg9ECv3BrmPj1O2DC1eSboeoFmGcL5hk/ITERENN3YfCpHR1/JlwFP3SIA9Djw9W2oSSk8/Je1soGAncCzQ8xu5qiXIFgMP3yEBuURGaZ+oK4iIiEYxZoG2IFdGaUXA5v3A87tlWSnagU3SfrVURm3TgDR/Twk+Gbltlj7PS/9QHw5JypD6/w7sa5OE2cO3qSuIiIhGcd2//du/+Scndrlc+OMf/+gvEhERfdeM3SlHIiKivyEGGhERaQIDjYiINIGBRkREmsBAIyIiTWCgERGRJjDQiIhIE8ILtEteOKuNKKxuRrdaGqK/HccPG2G0tfubbmcdCovr4AzZeWy0VhSjPGhS5MvksdhPtqBPbQ55LJfaYT1c7H8e7sEZ/aV2uf+w5zGUF45Gr9z74GxU+7dW45VCdSbl3hZYzRbUmu3j+ryJiCggrEBzVxyG+aY85Eea8E6dMknjUNYSE/py8zD3jITFOR/6dOlYl6fDwfdCT5vvdtrljd8CR6daCNbdHAgGWyA83eea4ay/0vYHkKw/Xt+O7gGlEKwZ5cY6VNbY4M+6zgoU2VKxbrk8lnctOG8ywjFvFdZFm7DX5t8AjrIalH8e6D/0eQTWX9GI0vIGuD46CGtUIiKVgGuKxZJbpwZWd9hQeSEZi2a2o2iU501ERGMnrEBzdMQizSch4OhHXNvw0UsLnJiOpM8PoFRJhbYYJCTpgQst6J80KdBlCDuKyryYn5WJtFCrIxORnpmJuR4TCk8pgbMf5tgMpDhN/hGZtdgE982ZyEjSqRsES8bSVZlIGnyWTV7EpvhgLGxAf1Q7vsrJROueV/BMdSLyM2R9oxG18ctw20Sl8/DnodSGqS9CUdRK5CUpDT3SsnQwlzf6VyncJ4zYtceC2HnT1QoREY2XsAJN1y0jqo5MbPjBLEROGB4k0nZZYI3Px4bFBvQrR/BYsK/cgHv/OTnQZQgZva0Eit56G/tsI6+O1mcvxa6SOlhdHnT1KJVEpE6VYyj7HZDQ6TQgJVapX4WIbtgs7Vh030pkRAI9dXYk/OhR/OK2FpSaO2Q0Z0fr6SKUnrDhQKUk2PDnMVzaYqQ2HYVrlAuQTp6Xhw0P5yPOfBxutUZEROMjrECbuyAdrXYLCt+7gPQcg79m3bsFvzcpozUDlsyLgcNajd3Venx/dhP2vXAQTf0NKNpbLaOe4ZphtQGpaXp0eUaevuzulH1G98HlCvV7rETMn9YMY3Ex9h31qLVgXlhLjDA3SUCV2OGeLSO5tgbUlhTh/KzFMET44DxmQe3pfiTcEI+lP/sFfn7fPVgxLwN3Lbl52PNQdxksIhl5P5wE414bupXTm3sq4GyqwK7KZv/qwAitFK2pMzDZXyEiovHCyYmJiEgTwhqhERERfdsw0IiISBMYaEREpAkMNCIi0gQGGhERaQIDjYiINCH8j+23leF3R8xYdseTWOr/UzQv6j95HS+dbUSPLgOP5m5ElmFkDZYHsMU/D5VI+A0KlgFvFjyLD6DHzPi1eOjWfPSYg/qIjOkvYuuiKWqLiIhopLADzfPJFuzoiEJLwhN4bqEePZZn8UvP/diZq07zNAD0WEfWzGW/Qv0tL+Ju/3RRCjO2HWjEQ3etxQ1n9+ORE0l4Oe92RAfX1Z5ERESjCfOUYxtMF5KwZsntmHyuBsocHcckENfMCpqzcELomrJtfVMNqj6tgbm511++7PopSBxlGikiIqKvE16gtdXApMvGHH0WclCGqnYvPL1JmKxX1/uFqo3C9ydsLHgMPz1yGquzldEZERHRtQkr0Dz1f0FV5wtYLyG0w2fGIQcwx+BClUO5PtggfYiaYgpmpmYj55ZsZCVHBUoxD+L19a/hzdUbkZMQKBEREV2LsALNdF6P5+58CwXr5bbiSeC8GYnzNyKx/jE8YtyObSXb/Zd2SQlRU64jdsiyHS+Vya3uyqVWiIiI/hqcnJiIiDSBf4dGRESawEAjIiJNYKAREZEmMNCIiEgTGGhERKQJDDQiItKEsALt2PvAim1Xbpuq1BVXafdewKUuh3QJqDwA/MsOYPNHgE8tExERjSasQFuwFij9NbA8GnhH7v+QE6h3nAXKLBJ4QTPlD9bKmqTRK+uU5S+Aj5V7e+iw6qiR/aYA//4o8OOLstysriAiIhrFmJ1y9J2U0ZQNWDgDqNsjYaXMO3wGePxooLYwUdo6IE2WkyKBOUpNQivGv/VQvh4gXp0VK22qjObaA8tERESjGbNA++wE0H4eeOMg4JB2ZYP8cyOQcQrYWiHr+qUtR4vXA7Fyb5D7+Dhly5GSFst2MoJTTjk+L/dERETfZMwCTRl9LV8GPHWPBNjjwNOzpSbDr6efknY2ULATOBbo+c1ku/t/EjjluFyWFwRdgYaIiCiUMQu0BbkySisCNu+XUdVuWVaKdmCTtF8tlVHbNCDN31NCSkZum6XP89I/5IdDvDLSk/U/fhWwLQTuvJpL0BAR0X9pnJyYiIg0YexOORIREf0NMdCIiEgTGGhERKQJDDQiItIEBhoREWkCA42IiDSBgUZERJoQXqBd8sJZbURhdTO61dIQ/e04ftgIo02ZhLEfrpMW1Jrl1ugNrB8HrRXFKA+aFPkyeSz2ky3oU5tuZx0Ki+vgVB74pXZYDxf7n4f7UmC9Urvcf8jzGM4Lh//5+OBsVPu3VuOVQruyBPS2wKo8Z7M9cCwiIhpXYQWau+IwzDflIT/ShHfqlEkah7KWmNCXm4e5ZyQszkko1LYjJSsTi6aHnvLD7bT7A8/RqRaCdTcHgsEWCE/3uWY466+0/QEk64/Xt6N7QCkEa0a5sQ6VNTb4s66zAkW2VKxbrsPBdy04bzLCMW8V1kWbsNfm3wCOshqUfx7oP/R5BNZf0YjS8ga4PjoIa1QiIpWAa4rFklunBlZ32FB5IRmLZraj6D015IiIaNxEdPl6odx8PYNjmG/m6IhFmk9CwNGPuLbho5cWODEdSZ8fQKmSCm06xF5qwp8/MKLsi1AXi7GjqMyL+RJ4aZPUUrDIRKRnZmKux4TCU0rg7Ic5NgMpTpN/RGYtNsF9cyYyknTqBsGSsXRVJpIGY7vJi9gUH4yFDeiPasdXOZlo3fMKnqlORH6GrG80ojZ+GW6bqHQe/jyU2jD1RSiKWom8JKWhR1qWDubyRv8qhfuEEbv2WBA7j5NREhGNtwjD9ZOg3CbpR5n6PgRdt4yoOjKx4QezEDlheJBI22WBNT4fGxYb0B9hwNIHfoJ71yxEV3l1iLkb07FuJVD01tvYZxsZeH32UuwqqYPV5UFXj1JJROpUOYYSUgMSOp0GpMQq9asQ0Q2bpR2L7luJjEigp86OhB89il/c1oJSc4eM5uxoPV2E0hM2HKiUBBvyPNR9BEtbjNSmo3ANnq4cZvK8PGx4OB9x5uNwqzUiIhofYZ1ynLsgHa12Cwrfu4D0HIO/Zt27Bb83KaM1A5bMi4HDWo3d1Xp8f7YXDosFlYdMaJ2VAf9gZohmWG1AapoeXZ6Rpy+7O2Wf0X1whbwoWiLmT2uGsbgY+4561FowL6wlRpibJKBK7HDPlpFcWwNqS4pwftZiGCJ8cB6zoPZ0PxJuiMfSn/0CP7/vHqyYl4G7ltw87HmouwwWkYy8H06Cca8N3crpzT0VcDZVYFdl4IqkgRFaKVpTZ2Cyv0JEROPlut/+9rf+yYnPnTuHnTt3+otERETfNWGN0IiIiL5tGGhERKQJDDQiItIEBhoREWkCA42IiDSBgUZERJoQ/sf228rwuyNmLLvjSSz1/ymaF/WfvI6XzjaiR5eBR3M3IsswsgbLA9jin4dKJPwGBcuANwuexQfQY2b8Wjx0az56zEF9RMb0F7F10RS1RURENFLYgeb5ZAt2dEShJeEJPLdQjx7Ls/il537szFWneRoAeqwja+ayX6H+lhdx9+W/sDZj24FGPHTXWtxwdj8eOZGEl/NuR3RwXe1JREQ0mjBPObbBdCEJa5bcjsnnaqDM0XHM5cKaWUFzFk4IXVO2rW+qQdWnNTA39/rLl10/BYmjTCNFRET0dcILtLYamHTZmKPPQg7KUNXuhac3CZOHTKYfqjYK35+wseAx/PTIaazOVkZnRERE1yasQPPU/wVVnS9gvYTQDp8ZhxzAHIMLVY7g653pQ9QUUzAzNRs5t2QjKzkqUIp5EK+vfw1vrt6InIRAiYiI6FqEFWim83o8d+dbKFgvtxVPAufNSJy/EYn1j+ER43ZsK9nuv7RLSoiach2xQ5bteKlMbnVXLrVCRET01+DkxEREpAn8OzQiItIEBhoREWkCA42IiDSBgUZERJrAQCMiIk1goBERkSaEFWjH3gdWbLty21SlrrhKu/cCLnV5NB0NwDM7gA+DJik+ZgSekNoTcu9Ta0RERIqwAm3BWqD018DyaOAduf9DTqDecRYos0jwBIXQYK2sSRq9sk5Z/gL4WLm3jxJM0vfVM0C8rOwYnNvRJsfRAdsfBR7vk/WyLRER0aAxO+XoOwlsltBZOAOo2yNhpcw7LKH0+NFAbWGitCWQ0mQ5KRKYo9RSgBj/1sOkAk/fARiCHp1DQnDVPAk4Oc7zn0tbgpKIiGjQmAXaZyeA9vPAGwclbKRd2SD/3AhknAK2Vsi6fmnL0eL1QKzcG+Q+Pk7Z8up0dMmorlj21SyjtJ/ItmqdiIhIMWaBpoy+li8DnrpHQudxGWHNlpoMv55+StrZQMFO4FigZ1jSZDTnmwX8QUZuyilJ+C8qSkREFDBmgbYgV0ZpRcDm/cDzu2VZKdqBTdJ+tVRGbdMklPw9Jfhk5LZZ+jwv/UN+OKRVttsmQSj3W98I/L4sfqEcwxzY38NH5Zap9iUiIhKcnJiIiDRh7E45EhER/Q0x0IiISBMYaEREpAkMNCIi0gQGGhERaQIDjYiINIGBRkREmhBeoF3ywlltRGF1M7rV0hD97Th+2AijrV1pwHXSglqz3Bq9gfXjoLWiGOVBkyJfJo/FfrIFfWrT7axDYXEdnMoD72wKPC6zHS5l7slL7bAeLvY/L/fgpMjdzbCGfNxeOPx1H5yN6v5bq/FKoTprcm8LrOq+/cciIqJxFVaguSsOw3xTHvIjTXinTpmkcShriQl9uXmYe0bC4ZyEW207UrIysWi6Xu0xlNtp9weLo1MtBFMCRQkGWyA83eea4ay/0lZCyC7rj9e3o3tAKQRrRrmxDpU1NmXyEQmwChTZUrFuuQ4H37Wgr6kCZp08rqx0JEVJHpmMcMxbhXXRJuy1KRv4UHnYhMqTjUpjmEaUljfA9dFBWKMSEakEXFMsltw6NbC6w4bKC8lYNLMdRe/x0gBEROMtrEBzdMQizSdv+o5+xLUpo7BgLXBiOpI+P4BSJUXadIi91IQ/f2BE2RehLhZjR1GZF/Ml8NImqaVgkYlIz8zEXI8Jhafk2GX7YY7NQIrT5B+RWYtNcN+ciYwknbpBsGQsXZWJpMFn2eRFbIoPxsIG9Ee1o1U3Ce4TRuwrsaBVRmQJOZlo3fMKnqlORH6GZGltKVzzVyB1tK9SfRGKolYiL0lp6JGWpYO5/Er4KfvetceC2HnT1QoREY2XsAJN1y0jqo5MbPjBLEROGB4k0nZZYI3Px4bFBvRHGLD0gZ/g3jUL0VVeHWLuxnSsWwkUvfU29tlGBl6fvRS7SupgdXnQ1aNUEpE6VY6hPPIBCc9OA1JilfpViOiGzdKORfetREakZOXsVXjyvjzcm2xDoYzI3HV2JPzoUfzithaUmk+h8Mg5uD82wnxCGdmFOO2YthipTUfhGjw9OczkeXnY8HA+4szH4VZrREQ0PsIKtLkL0tFqt6DwvQtIzwlMe2/duwW/NymjNQOWzIuBw1qN3dV6fH+2Fw6LBZWHTGidlQH/YGaIZlglTFLT9OjyjDx92d0p+4zug8s1fCSoSMT8ac0wFhdj31GPWgvmhbVEAqnJhgMldrhny0iurQG1JUU4P2sxEr5sQKW5ArvNErrp0j3CB+cxC2pP9yPhhlm4f9PPsEECL2teLlZnhDhdGpGMvB9OgnGvDd3K6c09FXA2VWBXZbN/dWCEVorW1BmY7K8QEdF44eTERESkCWGN0IiIiL5tGGhERKQJDDQiItIEBhoREWkCA42IiDSBgUZERJoQ/sf228rwuyNmLLvjSSz1/ymaF/WfvI6XzjaiR5eBR3M3IsswsgbLA9gyOOdiwm9QsAx4s+BZfAA9ZsavxUO35qPHHNRHZEx/EVsXTVFbREREI4UdaJ5PtmBHRxRaEp7Acwv16LE8i1967sfOXHWapwGgxzqyZi77FepveRF3X/4LazO2HWjEQ3etxQ1n9+ORE0l4Oe92RAfX1Z5ERESjCfOUYxtMF5KwZsntmHyuBsocHcdcLqyZFTRn4YTQNWXb+qYaVH1aA3OzMsV9kOunIHGUaaSIiIi+TniB1lYDky4bc/RZyEEZqtq98PQmYfKQ2aFC1Ubh+xM2FjyGnx45jdXZyuiMiIjo2oQVaJ76v6Cq8wWslxDa4TPjkAOYY3ChyhE8ga8+RE0xBTNTs5FzSzaykqMCpZgH8fr61/Dm6o3ISQiUiIiIrkVYgWY6r8dzd76FgvVyW/EkcN6MxPkbkVj/GB4xbse2ku3+S7ukhKgp1xE7ZNmOl8rkVhfqOmNERETXjpMTExGRJvDv0IiISBMYaEREpAkMNCIi0gQGGhERaQIDjYiINIGBRkREmhBWoB17H1ix7cptU5W64irt3gu41OXRdDQAz+wAPgyapDhUjYiISBFWoC1YC5T+GlgeDbwj93/ICdQ7zgJlFgm84BBSa2VN0uiVdcryF8DHyr0d8AW6DSV9Xz0DxMvKjsG5HUPViIiIVGN2ytF3EthsAxbOAOr2SFgp8w5LAD1+NFBbmChtHZAmy0mRwByllgLE+LceJhV4+g7AEPzoQtWIiIhUYxYPn50A2s8DbxwEHNKubJB/bgQyTgFbK2Rdv7TlaPF6IFbuDXIfH6dsSURE9Ncbu/GOjL6WLwOeukcC7HEZTc2Wmgy/nn5K2tlAwU7gWKAnERHRmJvwj//4j79VFjweD9asWeMvXq0/VwMLc5R59YHkBGD3AaD8jASXWUZgtwCJdmDTRzJ6kyGbQzrdPS9wijHyC+B5C3BK+s5ID2w/RKtst11Ge52yPxn54XuAZOLIGmfmJyIiFScnJiIiTeBHLIiISBMYaEREpAkMNCIi0gQGGhERaQIDjYiINIGBRkREmsBAIyIiTQgv0C554aw2orC6Gd1qaYj+dhw/bITR1q404DppQa1Zbo3ewPpx0FpRjPJQs/DLY7GfbEGf2nQ761BYXAen8sA7mwKPy2yHS5l78lI7rIeL/c/LPTgBcnczrCEftxcOf90HZ6O6/9ZqvFJoV5aA3hZY1X37j0VEROMqrEBzVxyG+aY85Eea8E6dMknjUNYSE/py8zD3jITDOQm32nakZGVi0fQRc4L4uZ12f7A4OtVCMCVQlGCwBcLTfa4ZzvorbSWE7LL+eH07ugeUQrBmlBvrUFljUyYfkQCrQJEtFeuW63DwXQv6mipg1snjykpHUpTkkckIx7xVWBdtwl6bsoEPlYdNqDzZqDSGaURpeQNcHx2ENSoRkUrANcViya1TA6s7bKi8kIxFM9tR9J4ackRENG7CCjRHRyzSfPKm7+hHXJsyCgvWAiemI+nzAyhVUqRNh9hLTfjzB0aUfRHqYjF2FJV5MV8CL22SWgoWmYj0zEzM9ZhQeEqOXbYf5tgMpDhN/hGZtdgE982ZyEjSqRsES8bSVZlIGnyWTV7EpvhgLGxAf1Q7WnWT4D5hxL4SC1plRJaQk4nWPa/gmepE5GdIltaWwjV/BVJH+yrVF6EoaiXykpSGHmlZOpjLr4Sfsu9deyyInTddrRAR0XgJK9B03TKi6sjEhh/MQuSE4UEibZcF1vh8bFhsQH+EAUsf+AnuXbMQXeXVIS7smY51K4Git97GPtvIwOuzl2JXSR2sLg+6epRKIlKnyjGURz4g4dlpQEqsUr8KEd2wWdqx6L6VyIiUrJy9Ck/el4d7k20olBGZu86OhB89il/c1oJS8ykUHjkH98dGmE8oI7sQpx3TFiO16Shco1yfbfK8PGx4OB9x5uNwqzUiIhofYQXa3AXpaLVbUPjeBaTnGPw1694t+L1JGa0ZsGReDBzWauyu1uP7s71wWCyoPGRC66wM+AczQzTDKmGSmqZHl2fk6cvuTtlndB9cruEjQUUi5k9rhrG4GPuOetRaMC+sJRJITTYcKLHDPVtGcm0NqC0pwvlZi5HwZQMqzRXYbZbQTZfuET44j1lQe7ofCTfMwv2bfoYNEnhZ83KxOiPE6dKIZOT9cBKMe23oVk5v7qmAs6kCuyqb/asDI7RStKbOwGR/hYiIxgsnJyYiIk0Ia4RGRET0bcNAIyIiTWCgERGRJjDQiIhIExhoRESkCQw0IiLShPA/tt9Wht8dMWPZHU9iqf9P0byo/+R1vHS2ET26DDyauxFZhpE1WB7AlsE5FxN+g4JlwJsFz+ID6DEzfi0eujUfPeagPiJj+ovYumiK2iIiIhop7EDzfLIFOzqi0JLwBJ5bqEeP5Vn80nM/duaq0zwNAD3WkTVz2a9Qf8uLuPvyX1ibse1AIx66ay1uOLsfj5xIwst5tyM6uK72JCIiGk2YpxzbYLqQhDVLbsfkczVQ5ug45nJhzaygOQsnhK4p29Y31aDq0xqYm5Up7oNcPwWJo0wjRURE9HXCC7S2Gph02Zijz0IOylDV7oWnNwmTh8wOFao2Ct+fsLHgMfz0yGmszlZGZ0RERNcmrEDz1P8FVZ0vYL2E0A6fGYccwByDC1WO4Al89SFqiimYmZqNnFuykZUcFSjFPIjX17+GN1dvRE5CoERERHQtwgo003k9nrvzLRSsl9uKJ4HzZiTO34jE+sfwiHE7tpVs91/aJSVETbmO2CHLdrxUJre6UNcZIyIiunacnJiIiDSBf4dGRESawEAjIiJNYKAREZEmMNCIiEgTGGhERKQJDDQiItKEsALt2PvAim1Xbpuq1BVXafdewKUuj6ajAXhmB/Dh4CTF/bK8B/jxq9d+PCIi0r6wAm3BWqD018DyaOAduf9DTqDecRYos0jgBc2UP1gra5JGr6xTlr8APlbu7YAv0G0o6fvqGSBeVnYMzu0oj/QfVsvxHpf7YxJuwycgISKi/9LG7JSj7ySw2QYsnAHUyUiqTJl3WELp8aOB2sJEaeuANFlOigTmKLUUIMa/9TCpwNN3AIbgRyfL8YPzQsp+DHHqMhERkRizQPvsBNB+HnjjIOCQdmWD/HMjkHEK2Foh6/qlrYZSrNwb5D4+jFBylMqxcoElY/bIiYhIC8YuFmTUtHwZ8NQ9EmCPywhrttRk+PX0U9LOBgp2AscCPcOmhNmrE2WfGWqBiIhINWaBtkBGTZ8VAZv3A8/vlmWlaAc2SftVCSLHNCDN31OCT0Zum6XP89I/5IdDWmW7bRKEcr/1Ddle9oOTwD+YJBTLw/sgChERaRsnJyYiIk3gb6KIiEgTGGhERKQJDDQiItIEBhoREWkCA42IiDSBgUZERJrAQCMiIk0IL9AueeGsNqKwuhndammI/nYcP2yE0dauNOA6aUGtWW6N4zejcGtFMcqDJkW+TB6L/WQL+tSm21mHwuI6OJUH3tkUeFxmO1zK3JOX2mE9XOx/Xu7BSZG7m2EN+bi9cPjrPjgb1f23VuOVQuWvwEVvC6zqvv3HIiKicRVWoLkrDsN8Ux7yI014p06ZpHEoa4kJfbl5mHtGwuGchFttO1KyMrFo+uDswkO5nXZ/sDg61UIwJVCUYLAFwtN9rhnO+ittJYTssv54fTu6B5RCsGaUG+tQWWNTJh+RAKtAkS0V65brcPBdC/qaKmDWyePKSkdSlOSRyQjHvFVYF23CXpuygQ+Vh02oPNmoNIZpRGl5A1wfHYQ1KhGRSsA1xWLJrVMDqztsqLyQjEUz21H0nhpyREQ0bsIKNEdHLNJ88qbv6EdcmzIKC9YCJ6Yj6fMDKFVSpE2H2EtN+PMHRpR9EepiMXYUlXkxXwIvbZJaChaZiPTMTMz1mFB4So5dth/m2AykOE3+EZm12AT3zZnISNKpGwRLxtJVmUgafJZNXsSm+GAsbEB/VDtadZPgPmHEvhILWmVElpCTidY9r+CZ6kTkZ0iW1pbCNX8FUkf7KtUXoShqJfKSlIYeaVk6mMuvhJ+y7117LIidN12tEBHReAkr0HTdMqLqyMSGH8xC5IThQSJtlwXW+HxsWGxAf4QBSx/4Ce5dsxBd5dUh5m5Mx7qVQNFbb2OfbWTg9dlLsaukDlaXB109SiURqVPlGMojH5Dw7DQgJVapX4WIbtgs7Vh030pkREpWzl6FJ+/Lw73JNhTKiMxdZ0fCjx7FL25rQan5FAqPnIP7YyPMJ5SRXYjTjmmLkdp0FK7B05PDTJ6Xhw0P5yPOfBxutUZEROMjrECbuyAdrXYLCt+7gPQcg79m3bsFvzcpozUDlsyLgcNajd3Venx/thcOiwWVh0xonZUB/2BmiGZYJUxS0/To8ow8fdndKfuM7oPLNXwkqEjE/GnNMBYXY99Rj1oL5oW1RAKpyYYDJXa4Z8tIrq0BtSVFOD9rMRK+bECluQK7zRK66dI9wgfnMQtqT/cj4YZZuH/Tz7BBAi9rXi5WZ4Q4XRqRjLwfToJxrw3dyunNPRVwNlVgV2Wzf3VghFaK1tQZmOyvEBHReOHkxEREpAlhjdCIiIi+bRhoRESkCQw0IiLSBAYaERFpAgONiIg0gYFGRESaEP7H9tvK8LsjZiy740ks9f8pmhf1n7yOl842okeXgUdzNyLLMLIGywPYMjjnYsJvULAMeLPgWXwAPWbGr8VDt+ajxxzUR2RMfxFbF01RW0RERCOFHWieT7ZgR0cUWhKewHML9eixPItfeu7Hzlx1mqcBoMc6smYu+xXqb3kRd1/+C2szth1oxEN3rcUNZ/fjkRNJeDnvdkQH19WeREREownzlGMbTBeSsGbJ7Zh8rgbKHB3HXC6smRU0Z+GE0DVl2/qmGlR9WgNzszLFfZDrpyBxlGmkiIiIvk54gdZWA5MuG3P0WchBGaravfD0JmHykNmhQtVG4fsTNhY8hp8eOY3V2crojIiI6NqEFWie+r+gqvMFrJcQ2uEz45ADmGNwocoRPIGvPkRNMQUzU7ORc0s2spKjAqWYB/H6+tfw5uqNyEkIlIiIiK5FWIFmOq/Hc3e+hYL1clvxJHDejMT5G5FY/xgeMW7HtpLt/ku7pISoKdcRO2TZjpfK5FYX6jpjRERE146TExMRkSbw79CIiEgTGGhERKQJDDQiItIEBhoREWkCA42IiDSBgUZERJoQVqAdex9Yse3KbVOVuuIq7d4LuNTl0XQ0AM/sAD4cnKTYCzwv7X95Veq1ao2IiEgVVqAtWAuU/hpYHg28I/d/yAnUO84CZRYJvKCZ8gdrZU3S6JV1yvIXwMfKvR3wBboNJX1fPQPEy8qOwbkd9cBTjwL//jiQ9megUi0TEREpxuyUo+8ksNkGLJwB1O2RsFLmHZZQevxooLYwUdo6CSNZTooE5ii1FCDGv/UwqcDTdwCG4Y9O9umQY9TdJKGqloiIiBRjFmifnQDazwNvHJTQkXZlg/xzI5BxCthaIev6pS1Hi5eRVqzcG+Q+Pk7Z8ur52mXfsp9kGQEeCzm0IyKi/6rGLNCU0dfyZcBT90iAPS4jrNlSk+HX009JOxso2CkhFOgZthgJyOWZwHoZ3SmnLYmIiAaNWaAtyJVRWhGweT/w/G5ZVop2YJO0Xy2VkdU0IM3fU0JJgmmz9Hle+of8cIiMwDZtkyCU+61vyPayH5yV/uq+n2kG7k8PdCUiIlJwcmIiItKEsTvlSERE9DfEQCMiIk1goBERkSYw0IiISBMYaEREpAkMNCIi0gQGGhERaUJ4gXbJC2e1EYXVzehWS0P0t+P4YSOMtnZ/0+2sQ2FxHZwhO4+N1opilAdNinyZPBb7yRb0qU14mmFt9AaWhz1OXGqHVWmfaL/c3+20o9bcBLfavsILh38/Pjgb1f23VuOVQuWvwEVvC6xmi2xrH9fnTUREAWEFmrviMMw35SE/0oR36pRJGoeylpjQl5uHuWeKUXjOhz5dOtbl6XDwPfXNfphAaFjg6FQLwbolgJRgsAXC032uGc76K20lhOyy/nh9O7oHlEKwZpQb61BZY1MmHwEu2mCsrUNZeaN/LTz9SPlH5XFKiEkHx3tGuOVxL/UZceAU0FdnRGn3VMzPSsXkwBZBGlFa3gDXRwdhjUpEpBJwTbFYcuvUwOoOGyovJGPRzHYUjfK8iYho7IQVaI6OWKT5TNjr6Edcmzq6uawFTkxH0ucHUKqkSFsMEpL0wIUW9E+aFOgyhB1FZV4JjUykhVodmYj0zEzM9ZhQKCHjKNsPc2wGUpwm/4jMWmyC++ZMZCTp1A2CJWPpqkwkDT7LiRnIuyMNsWoThkQk6HxwteqQIMeOjOpHa4vXH36d59pha2qEu3o/3thrgWvwMjbB6otQFLUSeUlKQ4+0LB3Mg2Ep3CeM2LXHgth509UKERGNl7ACTdctI6qOTGz4wSxEThgeJNJ2WWCNz8eGxQb0K0fwWLCv3IB7/zk50GUIGb2tBIreehv7bCOn0O+zl2JXSR2sLg+6epRKIlKnyjGU/Q5IeHYakHI5oa5VP5yHD6Lp9tVYFAWkrLoPKwxArG4SEqYqCzOQ95MH8fMMG4ps6ibB0hYjtelo6LATk+flYcPD+YgzHw9xypKIiMZSWIE2d0E6Wu0WFL53Aek58sYvrHu34PcmZbRmwJJ5MXBYq7G7Wo/vz27CvhckNPobULS3WkZvwzXDKmGRmqZHl2fk6cvuTtlndB9cruEjQUUi5k9rhrG4GPuOetRaMC+sJUaYm2w4UGKXUGlG+Z4KOJsqsKuyGe7Kt/Gy2Qt3lYy0bF7AeRR7S4pQeHYW8mdJ1N7gQdHhOhRZ5DmFmgw5Ihl5P5wE414buoftWxEYoZWiNXVGiFOWREQ0ljg5MRERaUJYIzQiIqJvGwYaERFpAgONiIg0gYFGRESawEAjIiJNYKAREZEmhP+x/bYy/O6IGcvueBJL/X+K5kX9J6/jpbON6NFl4NHcjcgyjKzB8gC2+OehEgm/QcEy4M2CZ/EB9JgZvxYP3ZqPHnNQH5Ex/UVsXTRFbREREY0UdqB5PtmCHR1RaEl4As8t1KPH8ix+6bkfO3PVaZ4GgB7ryJq57Feov+VF3O2fLkphxrYDjXjorrW44ex+PHIiCS/n3Y7o4Lrak4iIaDRhnnJsg+lCEtYsuR2Tz9VAmaPjmMuFNbOC5iycELqmbFvfVIOqT2tgbu71ly+7fgoSR5lGioiI6OuEF2htNTDpsjFHn4UclKGq3QtPbxIm69X1fqFqo/D9CRsLHsNPj5zG6mxldEZERHRtwgo0T/1fUNX5AtZLCO3wmXHIAcwxuFDlUK8z5qcPUVNMwczUbOTcko2s5KhAKeZBvL7+Nby5eiNyEgIlIiKiaxFWoJnO6/HcnW+hYL3cVjwJnDcjcf5GJNY/hkeM27GtZLv/0i4pIWrKdcQOWbbjpTK51V251AoREdFfg5MTExGRJvDv0IiISBMYaEREpAkMNCIi0gQGGhERaQIDjYiINIGBRkREmhBWoB17H1ix7cptU5W64irt3gu41OXRdDQAz+wAPgyapFjhMMkx5fhERETBwgq0BWuB0l8Dy6OBd+T+DzmBesdZoMwigRcUQoO1siZp9Mo6ZfkL4GPl3g74At2Gkr6vngHiZWVH8NyO56Uu+17QpbaJiIhUY3bK0XcS2GwDFs4A6vZIWCnzDksoPX40UFuYKG0dkCbLSZHAHKWWAsT4tx4mFXj6DsAw7NEVlAA/Xi11tU1ERDRozALtsxNAu4yg3jgIOKRd2SD/3AhknAK2Vsi6fmnL0eL1QKzcG+Q+Pk7Z8up0VMl+ZSS4QJ3+kYiIKNiYBZoy+lq+DHjqHgmwx2WENVtqMvx6+ilpZ8voaidwLNAzLB/LCPBD9Xd3b8gyf49GRETBxizQFuTKKK0I2LwfeH63LCtFO7BJ2q+WyuhqGpDm7ynBJyO3zdLneekf8sMhrbKdBNdWud/6hmwv+7nzwcDv7ZTbwxKWpWvVvkRERIKTExMRkSaM3SlHIiKivyEGGhERaQIDjYiINIGBRkREmsBAIyIiTWCgERGRJjDQiIhIE8ILtEteOKuNKKxuRrdaGqK/HccPG2G0tQfaSn+bBbWN3kB7HLRWFKN82Mz8fvJY7Cdb0Kc23c46FBbXwak88M4m1JrlcZntcClzT15qh/Vwsf95uQcnRe5uhjXk4/bC4a/74GxU999ajVcK7coS0NsCq7pv/7GIiGhchRVo7orDMN+Uh/xIE96pUyZpHMpaYkJfbh7mnpFwONeP2pIKdE3LwKLperXHUG6n3R8sjk61EEwJFCUYbIHwdJ9rhrP+SlsJIbusP17fju4BpRCsGeXGOlTW2JTJRyTAKlBkS8W65TocfNeCvqYKmHWZWJSVjqQoySOTEY55q7Au2oS9NmUDHyoPm1B5slFpDNOI0vIGuD46CGtUIiKVgGuKxZJbpwZWd9hQeSEZi2a2o+g9NeSIiGjchBVojo5YpPnkTd/Rj7g2dRR2WQucmI6kzw+gVEmRNjscZzwo37sHu+taAl2GsKOozIv5WZlIm6SWgkUmIj0zE3M9JhSekmOX7Yc5NgMpTpN/RGYtNsF9cyYyknTqBsGSsXRVJpIGn2WTF7EpPhgLG9Af1Y5W3SS4Txixr8SCVhmRJeRkonXPK3imOhH5GZKltaVwzV+B1NG+SvVFKIpaibwkpaFHWpYO5vIr4afse9ceC2LnTVcrREQ0XsIKNF23jKg6MrHhB7MQOWF4kEjbZYE1Ph8bFhvQL0eI/ftl+Jef/QRzbaU4rva6Ih3rVgJFb72NfbaRV0frs5diV0kdrC4PunqUSiJSp8oxlEc+IOHZaUBKrFK/ChHdsFnasei+lciIlKycvQpP3peHe5NtKJQRmbvOjoQfPYpf3NaCUvMpFB45B/fHRphPKCO7EKcd0xYjtekoXMHXbAsyeV4eNjycjzjzcbjVGhERjY+wAm3ugnS02i0ofO8C0nMCVyez7t2C35uU0ZoBS+bFwGGtxu5qPb4/ewaSOkphrC6F2bAQMvAZphlWCZPUND26PCNPX3Z3yj6j++ByDR8JKhIxf1ozjMXF2HfUo9aCeWEtkUBqsuFAiR3u2TKSa2tAbUkRzs9ajIQvG1BprsBuswFL06V7hA/OYxbUnu5Hwg2zcP+mn2GDBF7WvFyszghxujQiGXk/nATjXhu6ldObeyrgbKrArspm/+rACK0UrakzMNlfISKi8cLJiYmISBPCGqERERF92zDQiIhIExhoRESkCQw0IiLSBAYaERFpAgONiIg0IfyP7beV4XdHzFh2x5NY6v9TNC/qP3kdL51tRI8uA4/mbkSWYWQNlgewZXDOxYTfoGAZ8GbBs/gAesyMX4uHbs1Hjzmoj8iY/iK2LpqitoiIiEYKO9A8n2zBjo4otCQ8gecW6tFjeRa/9NyPnbnqNE8DQI91ZM1c9ivU3/Ii7vZPF6UwY9uBRjx011rccHY/HjmRhJfzbkd0cF3tSURENJowTzm2wXQhCWuW3I7J52qgzNFxzOXCmllBcxZOCF1Ttq1vqkHVpzUwNytT3Ae5fgoSR5lGioiI6OuEF2htNTDpsjFHn4UclKGq3QtPbxImD5kdKlRtFL4/YWPBY/jpkdNYna2MzoiIiK5NWIHmqf8LqjpfwHoJoR0+Mw45gDkGF6ocwRP46kPUFFMwMzUbObdkIys5KlCKeRCvr38Nb67eiJyEQImIiOhahBVopvN6PHfnWyhYL7cVTwLnzUicvxGJ9Y/hEeN2bCvZ7r+0S0qImnIdsUOW7XipTG51oa4zRkREdO04OTEREWkC/w6NiIg0gYFGRESawEAjIiJNYKAREZEmMNCIiEgTGGhERKQJYQXasfeBFduu3DZVqSuu0u69gEtdHk1HA/DMDuDDwUmK5X5T0DGPqWUiIiJFWIG2YC1Q+mtgeTTwjtz/ISdQ7zgLlFkkbIJmyh+slTVJo1fWKctfAB8r93bAF+g2lPR99QwQLys7Bud2lHvH9MBxldsCtUxERKQYs1OOvpPAZhuwcAZQt0fCSpl3WELp8aOB2sJEaeuANFlOigTmKLUUIMa/9TCpwNN3AIbhj64zEI6fudU2ERGRaswC7bMTQPt54I2DMpKSdmWD/HMjkHEK2Foh6/qlLUeL1wOxcm+Q+/g4ZcurlCD7/rGE4DQZ3b0DfMhQIyKiIGMWaMroa/ky4Kl7JMAelxHWbKnJ8Ovpp6SdDRTs/Ct/76WGYbwE2z/ICO6zL9U6ERGRGLNAW5ArIVMEbN4PPL9blpWiHdgk7VdLZdQmI6s0f08JPhm5bZY+z0v/kB8OUT8AslXut74h28t+4JURmrLvt+R2CXj87wNdiYiIFJycmIiINGHsTjkSERH9DTHQiIhIExhoRESkCQw0IiLSBAYaERFpAgONiIg0gYFGRESaEF6gXfLCWW1EYXUzutXSEP3tOH7YCKOtPdBW+tssqG30BtrjoLWiGOVBkyJfJo/FfrIFfWrT7axDYXEdnMoD72xCrVkel9kOlzL35KV2WA8X+5+Xe3BS5O5mWEM+bi8c/roPzkZ1/63VeKVQ+Stw0dsCq7pv/7GIiGhchRVo7orDMN+Uh/xIE96pUyZpHMpaYkJfbh7mnpFwONeP2pIKdE3LwKLperXHUG6n3R8sjk61EEwJFCUYbIHwdJ9rhrP+SlsJIbusP17fju4BpRCsGeXGOlTW2JTJRyTAKlBkS8W65TocfNeCvqYKmHWZWJSVjqQoySOTEY55q7Au2oS9NmUDHyoPm1B5slFpDNOI0vIGuD46CGtUIiKVgGuKxZJbpwZWd9hQeSEZi2a2o+g9NeSIiGjchBVojo5YpPnkTd/Rj7g2dRR2WQucmI6kzw+gVEmRNjscZzwo37sHu+taAl2GsKOozIv5WZlIm6SWgkUmIj0zE3M9JhSekmOX7Yc5NgMpTpN/RGYtNsF9cyYyknTqBsGSsXRVJpIGn2WTF7EpPhgLG9Af1Y5W3SS4Txixr8SCVhmRJeRkonXPK3imOhH5GZKltaVwzV+B1NG+SvVFKIpaibwkpaFHWpYO5vIr4afse9ceC2LnTVcrREQ0XsIKNF23jKg6MrHhB7MQOWF4kEjbZYE1Ph8bFhvQL0eI/ftl+Jef/QRzbaU4rva6Ih3rVgJFb72NfbaRV0frs5diV0kdrC4PunqUSiJSp8oxlEc+IOHZaUBKrFK/ChHdsFnasei+lciIlKycvQpP3peHe5NtKJQRmbvOjoQfPYpf3NaCUvMpFB45B/fHRphPKCO7EKcd0xYjtekoXIOnJ4eZPC8PGx7OR5z5OHhxACKi8RVWoM1dkI5WuwWF711Aeo7BX7Pu3YLfm5TRmgFL5sXAYa3G7mo9vj97BpI6SmGsLoXZsBAy8BmmGVYJk9Q0Pbo8I09fdnfKPqP74HINHwkqEjF/WjOMxcXYd9Sj1oJ5YS2RQGqy4UCJHe7ZMpJra0BtSRHOz1qMhC8bUGmuwG6zAUvTpXuED85jFtSe7kfCDbNw/6afYYMEXta8XKzOCHG6NCIZeT+cBONeG7qV05t7KuBsqsCuymb/6sAIrRStqTMw2V8hIqLxwsmJiYhIE8IaoREREX3bMNCIiEgTGGhERKQJDDQiItIEBhoREWkCA42IiDQh/I/tt5Xhd0fMWHbHk1jq/1M0L+o/eR0vnW1Ejy4Dj+ZuRJZhZA2WB7BlcM7FhN+gYBnwZsGz+AB6zIxfi4duzUePOaiPyJj+IrYumqK2iIiIRgo70DyfbMGOjii0JDyB5xbq0WN5Fr/03I+dueo0TwNAj3VkzVz2K9Tf8iLu9k8XpTBj24FGPHTXWtxwdj8eOZGEl/NuR3RwXe1JREQ0mjBPObbBdCEJa5bcjsnnaqDM0XHM5cKaWUFzFk4IXVO2rW+qQdWnNTA3K1PcB7l+ChJHmUaKiIjo64QXaG01MOmyMUefhRyUoardC09vEiYPmR0qVG0Uvj9hY8Fj+OmR01idrYzOiIiIrk1Ygeap/wuqOl/AegmhHT4zDjmAOQYXqhzBE/jqQ9QUUzAzNRs5t2QjKzkqUIp5EK+vfw1vrt6InIRAiYiI6FqEFWim83o8d+dbKFgvtxVPAufNSJy/EYn1j+ER43ZsK9nuv7RLSoiach2xQ5bteKlMbnWhrjNGRER07Tg5MRERaQL/Do2IiDSBgUZERJrAQCMiIk1goBERkSYw0IiISBMYaEREpAlhBdqx94EV267cNlWpK67S7r2AS10eTUcD8MwO4MOgSYrRLtvuB+6WYx5TS0RERIqwAm3BWqD018DyaOAduf9DTqDecRYos0jYBIXQYK2sSRq9sk5Z/gL4WLm3A75At6Gk76tngHhZ2TE4t6Ns+/x7wJK7gHflmAvUMhERkWLMTjn6TgKbbcDCGUDdHgkrZd5hCaXHjwZqCxOlrQPSZDkpEpij1FKAGP/Ww6QCT98BGIIfnezfkSyBWCqjNDkOERFRsDELtM9OAO3ngTcOSvBIu7JB/rkRyDgFbK2Qdf3SlqPF64FYuTfIfXycsuXVccmozyfpd6cE3RIZ9W02qyuIiIjEmAWaMvpavgx46h4JsMdlhDVbahJATz8l7WygYOdf93uvpATZXbTcomSUJ0Hp6FRXEBERiTELtAW5MkorkpHTfuD53bKsFO3AJmm/WioBNE2CyN9Tgk8CabP0eV76h/xwiIzGNm2TIJT7rW/I9rIfzJNjfBLY3xPVcr840JWIiEjByYmJiEgTxu6UIxER0d8QA42IiDSBgUZERJrAQCMiIk1goBERkSYw0IiISBMYaEREpAnhBdolL5zVRhRWN6NbLQ3R347jh40w2tr9TbezDoXFdXCG7Dw2WiuKUR48M/8geSz2ky3oU5vwNMPa6PUvuhstqDUHblZXP9DZpLbtcClzUUrfymIjKs+FmkLZC4d/Pz44G9X9t1bjlULlr8BFbwus6r7G83kTEVFAWIHmrjgM8015yI804Z06ZZLGoawlJvTl5mHumWIUShj06dKxLk+Hg++pb/bDuJ12f5CEnM6qWwJICQZbIDzd55rhrL/SxiUJLFl/vL4d3QNKIVgzyo11qKyxKZOPABdtMNbWoay80b928vRMLMrKxNz+Jth7dUBTBcw6pZaOpCg5tNTm/vMKRB4ugtW/RbBGlJY3wPXRQVijEhGpBFxTLJbcOjWwusOGygvJWDSzHUWjPG8iIho7YQWaoyMWaT4T9jr6EdcWGIVd0QInpiPp8wMoVVKkLQYJSXrgQgv6J00KdBnCjqIyL+ZLsKSFWh2ZiPRMCR2PCYWn5Nhl+2GOzUCK0+QfkVmLTXDfnImMJAmkEZKxdFUmkgaf5cQM5N2Rhli16XepCQebkpE/XZZ1k+A+YcS+EgtaLwGxCYmYjHa4Lk3C9YHeQ9UXoShqJfKSlIYeaVk6mNWwVCj72rXHgth5ys6JiGg8hRVoum4ZUXVkYsMPZiFywvAgkbbLAmt8PjYsNqBfOYLHgn3lBtz7z8mBLkPI6G0lUPTW29hnG3lqr89eil0ldbC6POjqUSqJSJ0qx1D2OyDh2WlAypCEujZ95qPon7cwEHKzV+HJ+/Jwb7INhcolai55UfteBRJ+mIcUZf1waYuR2nRUAk9tDzN5Xh42PJyPOPNxuNUaERGNj7ACbe6CdLTaLSh87wLScwz+mnXvFvzepIzWDFgyLwYOazV2V+vx/dlN2PfCQTT1N6Bob7WM3oZrhlXCIzVNjy7PyNOX3Z2yz+g+uFzDR4KKRMyf1gxjcTH2HfWotWBeWEuMMDfZcKDELqHSjPI9FXA2VWBXZbOsb0aRLRF5swK98WUDKs0V2G02YGm6jAbfexmFZ/thN+5H+cgHLl+9ZOT9cBKMe23oHrHvwRFaKVpTZ8hIj4iIxhMnJyYiIk0Ia4RGRET0bcNAIyIiTWCgERGRJjDQiIhIExhoRESkCQw0IiLShPA/tt9Wht8dMWPZHU9iqf9P0byo/+R1vHS2ET26DDyauxFZhpE1WB7AlsE5FxN+g4JlwJsFz+ID6DEzfi0eujUfPeagPiJj+ovYumiK2iIiIhop7EDzfLIFOzqi0JLwBJ5bqEeP5Vn80nM/duaq0zwNAD3WkTVz2a9Qf8uLuNs/XZTCjG0HGvHQXWtxw9n9eOREEl7Oux3RwXW1JxER0WjCPOXYBtOFJKxZcjsmn6uBMkfHMZcLa2YFzVk4IXRN2ba+qQZVn9bA3KxMaR/k+ilIHGUaKSIioq8TXqC11cCky8YcfRZyUIaqdi88vUmYrFfX+4WqjcL3J2wseAw/PXIaq7OV0RkREdG1CSvQPPV/QVXnC1gvIbTDZ8YhBzDH4EKVI3CdsQB9iJpiCmamZiPnlmxkJUcFSjEP4vX1r+HN1RuRkxAoERERXYuwAs10Xo/n7nwLBevltuJJ4LwZifM3IrH+MTxi3I5tJdv9l3ZJCVFTriN2yLIdL5XJre7KpVaIiIj+GpycmIiINIF/h0ZERJrAQCMiIk1goBERkSYw0IiISBMYaEREpAkMNCIi0oSwAu3Y+8CKbVdum6rUFVdp917ApS6PpqMBeGYH8KE6SbFLjhF8zFftgToREZEirEBbsBYo/TWwPBp4R+7/kBOod5wFyiwSeEEz5Q/Wypqk0SvrlOUvgI+VewklX6DbUNL31TNAvKzsUOd2TJJjKMdUblunA8mXJzcmIiIaw1OOvpPAZhuwcAZQt0fCSpl3WELp8aOB2sJEaeuANFlOigTmKLUUIMa/9TCpwNN3AIZQj65FQlTu7pwcaBIRESnGLNA+OwG0nwfeOAg4pF3ZIP/cCGSckhFVhazrl7YcLV4PxMq9Qe7j45Qtr82xP8sIcdkoQUhERP9ljVmgKaOv5RI0T90jAfa4jLBmS01S5+mnpJ0NFOyUMAr0DJ9bArML+HGy2iYiIlKNWaAtyJVRWhGweT/w/G5ZVop2YJO0Xy2VUds0IM3fU4JPRm6bpc/z0j/kh0NaZbttEoRyv/WNKx8AOXaYozMiIgqNkxMTEZEmjN0pRyIior8hBhoREWkCA42IiDSBgUZERJrAQCMiIk1goBERkSYw0IiISBPCC7RLXjirjSisbka3Whqivx3HDxthtLUrDbhOWlBrllujN7B+HLRWFKM8aFLky+Sx2E+2oE9tup11KCyug1N54JfaYT1c7H8ebnUSZKV2uf+Q5zGcFw7/8/HB2aj2b63GK4XqX4H3tsCqPGezPXAsIiIaV2EFmrviMMw35SE/0oR36pRJGoeylpjQl5uHuWckLM5JKNS2IyUrE4um69UeQ7mddn/gOTrVQrDu5kAw2ALh6T7XDGf9lbY/gGT98fp2dA8ohWDNKDfWobLGpkw+AnRWoMiWinXLdTj4rgXnTUY45q3CumgT9tr8G8BRVoPyzwP9hz6PwPorGlFa3gDXRwdhjUpEpBJwTbFYcuvUwOoOGyovJGPRzHYUvcdr3RARjbewAs3REYs0n4SAox9xbcNHLy1wYjqSPj+AUiUV2nSIvdSEP39gRNkXoS4WY0dRmRfzJfDSJqmlYJGJSM/MxFyPCYWnlMDZD3NsBlKcJv+IzFpsgvvmTGQk6dQNgiVj6apMJA0+yyYvYlN8MBY2oD+qHV/lZKJ1zyt4pjoR+RmyvtGI2vhluG2i0nn481Bqw9QXoShqJfL8l7LRIy1LB3N5o3+Vwn3CiF17LIidN12tEBHReAkr0HTdMqLqyMSGH8xC5IThQSJtlwXW+HxsWGxAf4QBSx/4Ce5dsxBd5dUh5m5Mx7qVQNFbb2OfbWTg9dlLsaukDlaXB109SiURqVPlGMojH5DQ6TQgJVapX4WIbtgs7Vh030pkRAI9dXYk/OhR/OK2FpSaO2Q0Z0fr6SKUnrDhQKUk2JDnoe4jWNpipDYdhWvwdOUwk+flYcPD+YgzH1fmVSYionEUVqDNXZCOVrsFhe9dQHqOwV+z7t2C35uU0ZoBS+bFwGGtxu5qPb4/2wuHxYLKQya0zsrAyOtyNsNqA1LT9OjyjDx92d0p+4zug8sV6vdYiZg/rRnG4mLsO+pRa8G8sJYYYW6SgCqxwz1bRnJtDagtKcL5WYthiPDBecyC2tP9SLghHkt/9gv8/L57sGJeBu5acvOw56HuMlhEMvJ+OAnGvTZ0K6c391TA2VSBXZXN/tWBEVopWlNngJdvIyIaX5ycmIiINCGsERoREdG3DQONiIg0gYFGRESawEAjIiJNYKAREZEmMNCIiEgTwv/YflsZfnfEjGV3PIml/j9F86L+k9fx0tlG9Ogy8GjuRmQZRtZgeQBb/PNQiYTfoGAZ8GbBs/gAesyMX4uHbs1Hjzmoj8iY/iK2LpqitoiIiEYKO9A8n2zBjo4otCQ8gecW6tFjeRa/9NyPnbnqNE8DQI91ZM1c9ivU3/Ii7r78F9ZmbDvQiIfuWosbzu7HIyeS8HLe7YgOrqs9iYiIRhPmKcc2mC4kYc2S2zH5XA2UOTqOuVxYMytozsIJoWvKtvVNNaj6tAbm5l5/+bLrpyBxlGmkiIiIvk54gdZWA5MuG3P0WchBGaravfD0JmHykMn0Q9VG4fsTNhY8hp8eOY3V2crojIiI6NqEFWie+r+gqvMFrJcQ2uEz45ADmGNwocoRfL0zfYiaYgpmpmYj55ZsZCVHBUoxD+L19a/hzdUbkZMQKBEREV2LsALNdF6P5+58CwXr5bbiSeC8GYnzNyKx/jE8YtyObSXb/Zd2SQlRU64jdsiyHS+Vya3uyqVWiIiI/hqcnJiIiDSBf4dGRESawEAjIiJNYKAREZEmMNCIiEgTGGhERKQJDDQiItKEsALt2PvAim1Xbpuq1BVXafdewKUuj6ajAXhmB/Dh4CTFl4DKA8C/7ASe2AM4OEUWEREFCSvQFqwFSn8NLI8G3pH7P+QE6h1ngTKLBF7QTPmDtbImafTKOmX5C+Bj5d4O+ALdhpK+r54B4mVlx2BwSd8/TAL+/RHgqUQJRWkTERENGrNTjr6TwGYbsHAGUCcjqDJl3mEJpcePBmoLJYSgA9JkOSkSmKPUUoAY/9bDpAJP3wEYgh/d30l/2f8bH0vYyehtfbpaJyIiEmMWaJ+dANrPS+AcBBzSrpTQwY1Axilga4Ws65e2HC1eD8TKvUHu4+OULa9evJJ+PUCzjNx8wybqJyKi/9rGLNCU0dfyZcBT90iAPS4jrNlSkwB6+ilpZwMFO4FjgZ5hcVVLkC0GHpaR2xtLZJT2ibqCiIhIjFmgLciVUVoRsHk/8PxuWVaKdmCTtF8tlVHbNCDN31OCT0Zum6XP89I/5IdDWmW7bRKEcr/1Ddle9pOUIX3/d2D/myTMHr5N7UtERCQ4OTEREWnC2J1yJCIi+htioBERkSYw0IiISBMYaEREpAkMNCIi0gQGGhERaQIDjYiINCG8QLvkhbPaiMLqZnSrpSH623H8sBFGW3ugrfS3WVDb6A20x0FrRTHKgyZFvkwei/1kC/rUpttZh8LiOjiVB97ZhFqzPC6zHS5lKq1L7bAeLvY/L/fgpMjdzbCGfNxeOPx1H5yN6v5bq/FKoTprcm8LrOq+/cciIqJxFVaguSsOw3xTHvIjTXinTpmkcShriQl9uXmYe0bC4Vw/aksq0DUtA4um69UeQ7mddn+wODrVQjAlUJRgsAXC032uGc76K20lhOyy/nh9O7oHlEKwZpQb61BZY1MmH5EAq0CRLRXrlutw8F0L+poqYNZlYlFWOpKiJI9MRjjmrcK6aBP22pQNfKg8bELlyUalMUwjSssb4ProIKxRiYhUAq4pFktunRpY3WFD5YVkLJrZjqL3eGkAIqLxFlagOTpikeaTN31HP+La1FHYZS1wYjqSPj+AUiVF2uxwnPGgfO8e7K5rCXQZwo6iMi/mZ2UibZJaChaZiPTMTMz1mFB4So5dth/m2AykOE3+EZm12AT3zZnISNKpGwT7/7d39zFRnfkewL/RAcWOlJFOdlBwg65UERGtRVysXl9SuPWlrW03jW1qa1tc7UsaazZN6l/WJlbbRlutqdnGalpj0At2C4tjHOqQUl5EPE6dqR2F2QLKuMjbDCuDoNnnmTnoAEOjcyHbe+73k4wzz+8855wZ/+Cb52Tmd+KwYFkqTL2fsr4DUfE+mPNr0RPZimbdWHjOm3GkyIZmsSKLzUhF8+FP8X6FEdnJIkurLHDPXIKEwf6XagpQELkUWSY50CMxTQel5E74yWMfOGxDVMpEtUJERMMlrEDTdYoVVVsq1jw6BREj+weJGLttsMdkY81cA3rEGaL+sBCvvPo8pjssOKfOuiMJTy4FCg5+hSOOgXdH63ZacKCoGna3F9e7ZMWIhPHiHPKd3xTh2W5AfJSs34URnXDYWjHn2aVIjhBZOXUZNj6bhWfiHMgXKzJPtROxf1qPNx5ugkW5iPxTV+D5wQzlvFzZhbjsmDgXCfVn4B7kZqPRKVlY83I2xijn4FFrREQ0PMIKtOmzktDstCH/m2tIyjD4a/bcLfjAKldrBsxLGQ2XvQKHKvR4ZOokmNosMFdYoBhmQyx8+mmEXYRJQqIe170DL192totjjuqG291/JSgZMXNCI8yFhThyxqvWgnXAXiQCqd6BY0VOeKaKlVxLLaqKCnB1ylzE/rMWZUopDikGLJD3VxvhQ8NZG6ou9SD2gSlYvelVrBGBl5aSieXJIS6XjohD1uNjYc51oFNe3jxciob6Uhwoa/RvDqzQLGhOmIRof4WIiIYLmxMTEZEmhLVCIyIi+q1hoBERkSYw0IiISBMYaEREpAkMNCIi0gQGGhERaUL4X9tvKcZ7pxQsXLQRC/w/RetAzel92HW5Dl26ZKzPzEGaYWANthewpbfnYuw7yFsI7M/bhm+hx+SYlVj7UDa6lKA5QvLEndg6Z5w6IiIiGijsQPOe3oK9bZFoin0dO2br0WXbhje9q/F5ptrm6SbQZR9YU4rfQs2MnXjK3y5KUrD9WB3WPrESD1w+inXnTfgkaz5GBdfVmURERIMJ85JjC6zXTFgxbz6ir1RC9ug463ZjxZSgnoUjQ9fkvjX1lSj/sRJKo2xxH+T+cTAO0kaKiIjo14QXaC2VsOrSMU2fhgwUo7y1A94bJkT36Q4VqjYI35fIyduAl05dwvJ0uTojIiK6N2EFmrfme5S3f4xVIoT2+hSccAHTDG6Uu4Ib+OpD1KRxmJyQjowZ6UiLiwyURr+Ifas+w/7lOciIDZSIiIjuRViBZr2qx47HDiJvlXgs2QhcVWCcmQNjzQasM+/G9qLd/lu7xIeoyfuInbDtxq5i8agOdZ8xIiKie8fmxEREpAn8HRoREWkCA42IiDSBgUZERJrAQCMiIk1goBERkSYw0IiISBPCCrSzfwOWbL/z2FSubrhLh3IBt/p6MG21wPt7gb/3Nim+BZQdA14Rtc3fAT61TEREJIUVaLNWApa/AItHAV+L5w8zAvW2y0CxTQReUKf83lpxvRjcENvk638AP8hn5yDBJObu+QWIERvb1N6ObZXiXPHAX9cDz/1LvG4M1ImIiKQhu+TouyBWTg5g9iSg+rAIK9l3WITSa2cCtdlGMdYBieK1KQKYJmsioEb79+4nAXh3EWAIene+LhFwaqesxPFihdcaeE1ERCQNWaD9dB5ovQp8cRxwiXFZrfjnd0DyRWBrqdjWI8bibDF6IEo8G8RzzBi5590xzRXHEqs6ecnxI/FMREQUbMgCTa6+Fi8E3n5aBNhrYoU1VdTE8uvdt8U4Hcj7HDgbmBkecazVzwcuOS4Wr2cF3ZWGiIhoyAJtVqZYpRUAm4+KFdQh8VoWncAmMd5jEau2CUCif6YIJLFy2yzmfCTmh/xySLPYb7sIQvG89QuxvzgOOsTqT+zz3B7AMRt47G5uS0NERP9vsDkxERFpwtBdciQiIvoPYqAREZEmMNCIiEgTGGhERKQJDDQiItIEBhoREWkCA42IiDQhvEC71YGGCjPyKxrRqZb66GnFuZNmmB2BhouehmrkF1ajIeTkodFcWoiSoKbIt4n34rzQhG51CG8j7HUdgdf93qffraD5obbf1gGX/zg+NNSp85sr8Gm+/BW4cKMJdsWGKsU5rJ+biIgCwgo0T+lJKL/PQnaEFV9XyyaNfdmLrOjOzML0XwqRf8WHbl0SnszS4fg36h/7fjwNTvGH3wZXu1oI1ikCSAaDIxCeniuNaKi5M/YHkNh+rqYVnTdlIVgjSszVKKt0yOYjwL8cMFdVo7ikzr8V3h7E/5d8nyK01DB0FVei5OfA/L6fI7D9jjpYSmrh/u447JFGRMiAq4/CvIfGBza3OVB2LQ5zJreiYJDPTUREQyesQHO1RSHRZ0WuqwdjWvqvXprQgIkw/XwMFpkKLaMRa9ID15rQM3ZsYEofThQUd2BmWioSQ22OMCIpNRXTvVbkX5SBcxRKVDLiG6z+FZm90ArPg6lINunUHYLFYcGyVJh6P+V9ychalIgodQiDEbE6H9zNOsTKc9eZURWzEA/fJzf2/xyy1k9NAQoilyLLJAd6JKbpoPSGpeA5b8aBwzZEpbDxJBHRcAsr0HSdYkXVloo1j05BxMj+QSLGbhvsMdlYM9eAHnkGrw1HSgx45r/jAlP6EKu3pUDBwa9wxDHw7mjdTgsOFFXD7vbiepesGJEwXpxDHvemCJ12A+JvJ9S96kHDyeOon78ccyI7xGrOieZLBbCcd+BYmUiw/p+jv8S5SKg/A7d6z7b+olOysOblbIxRzsGj1oiIaHiEFWjTZyWh2WlD/jfXkJRh8NfsuVvwgVWu1gyYlzIaLnsFDlXo8cjUehz5WIRGTy0KcivEqqe/RtgdQEKiHte9Ay9fdraLY47qhjvkDdCMmDmhEebCQhw541VrwTpgLzJDqRcBVeQUodKIksOlaKgvxYGyRnjKvsInSgc85WKlJd7DglffwJ+ffRpLUpLxxLwH+30O9ZDBRsQh6/GxMOc60Nnv2FJghWZBc8IkRPsrREQ0XNicmIiINCGsFRoREdFvDQONiIg0gYFGRESawEAjIiJNYKAREZEmMNCIiEgTwv/afksx3julYOGijVjg/ylaB2pO78Ouy3Xo0iVjfWYO0gwDa7C9gC1qmynEvoO8hcD+vG34FnpMjlmJtQ9lo0sJmiMkT9yJrXPGqSMiIqKBwg407+kt2NsWiabY17Fjth5dtm1407san2eqbZ5uAl32gTWl+C3UzNiJp/ztoiQF24/VYe0TK/HA5aNYd96ET7LmY1RwXZ1JREQ0mDAvObbAes2EFfPmI/pKJWSPjrNuN1ZMCepZODJ0Te5bU1+J8h8roTTe8Jdvu38cjIO0kSIiIvo14QVaSyWsunRM06chA8Uob+2A94YJ0Xp1u1+o2iB8XyInbwNeOnUJy9Pl6oyIiOjehBVo3prvUd7+MVaJENrrU3DCBUwzuFHuUu8z5qcPUZPGYXJCOjJmpCMtLjJQGv0i9q36DPuX5yAjNlAiIiK6F2EFmvWqHjseO4i8VeKxZCNwVYFxZg6MNRuwzrwb24t2+2/tEh+iJu8jdsK2G7uKxaP6zq1WiIiI/jfYnJiIiDSBv0MjIiJNYKAREZEmMNCIiEgTGGhERKQJDDQiItIEBhoREWlCWIF29m/Aku13HpvK1Q136VAu4FZfh9QD/P0w8Nyevsc+awZe3yse4tmn1oiIiKSwAm3WSsDyF2DxKOBr8fxhRqDedhkotongCeqU31srrheDG2KbfP0P4Af57BwkmMS7+uNycezXxPNZEW6y2YhDnEcH7F4PvNYN7BH7EhER9RqyS46+C8BmETqzJwHVYnVVLPsO/yLC50ygNtsoxiKQEsVrUwQwTdbigdH+vfsR7yqmtwek2McwBnCJEFyWIgJSnOejn8VYBCUREVGvIQu0n84DrVeBL46LsBHjslrxz++A5IvA1lKxrUeM1aCKEs8G8RwjgurXuCziuJnAPDG/7bpY1RWKYzWKVdrzYl91DhERkTRkgSZXUosXAm8/LULnNeDdqaImll/vvi3G6UDe58DZwMy7IsNsz31i/+TAOFGs5nxTgA8XiYG8fOm/qSgREVHAkAXaLLGS+qkA2HwU+OiQeC2LTmCTGO8R4eSaIELJP1MEn1i5bRZzPhLzQ3455ALwR6sIwJI7XzqJmS3OoQSO9/IZ8UhV5xIREQlsTkxERJowdJcciYiI/oMYaEREpAkMNCIi0gQGGhERaQIDjYiINIGBRkREmsBAIyIiTQgv0G51oKHCjPyKRnSqpT56WnHupBlmR2tgLOc7bKiqk12Gh0dzaSFKgpoi3ybei/NCE7rVoaehGvmF1WiQb7y9HlWKeF+KE27Ze/JWK+wnC/2fy3PLPx3obIQ95PvugMtf96GhTj1+cwU+zVe7Jt9ogl09tv9cREQ0rMIKNE/pSSi/z0J2hBVfV8smjX3Zi6zozszC9F9EOFzpQVVRKa5PSMacib0dh/vyNDj9weJqVwvBZKDIYHAEwtNzpRENNXfGMoScYvu5mlZ03pSFYI0oMVejrNIBf9a1l6LAkYAnF+tw/H9s6K4vhaJLxZy0JJgiRR5ZzXClLMOTo6zIdcgdfCg7aUXZhTo56KcOlpJauL87DnukEREy4OqjMO+h8YHNbQ6UXYvDnMmtKPiGtwYgIhpuYQWaqy0KiT7xR9/VgzEt6irstiY0YCJMPx+DRaZIixOuX7woyT2MQ9VNgSl9OFFQ3IGZaalIHKuWgkUYkZSaiuleK/IvinMXH4USlYz4Bqt/RWYvtMLzYCqSTTp1h2BxWLAsFabeT1nfgah4H8z5teiJbEWzbiw85804UmRDs1iRxWakovnwp3i/wojsZJGlVRa4Zy5BwmD/SzUFKIhciiyTHOiRmKaDUnIn/OSxDxy2ISplolohIqLhElag6TrFiqotFWsenYKIkf2DRIzdNthjsrFmrgE94gxRf1iIV159HtMdFpxTZ92RhCeXAgUHv8IRx8C7o3U7LThQVA2724vrXbJiRMJ4cQ75zm+K8Gw3ID5K1u/CiE44bK2Y8+xSJEeIrJy6DBufzcIzcQ7kixWZp9qJ2D+txxsPN8GiXET+qSvw/GCGcl6u7EJcdkyci4T6M3D3Xp7sJzolC2tezsYY5Rw8ao2IiIZHWIE2fVYSmp025H9zDUkZgbb39twt+MAqV2sGzEsZDZe9Aocq9Hhk6iSY2iwwV1igGGZDbZ4fpBF2ESYJiXpc9w68fNnZLo45qhtud/+VoGTEzAmNMBcW4sgZr1oL1gF7kQikegeOFTnhmSpWci21qCoqwNUpcxH7z1qUKaU4pBiwIElMH+FDw1kbqi71IPaBKVi96VWsEYGXlpKJ5ckhLpeOiEPW42NhznWgU17ePFyKhvpSHChr9G8OrNAsaE6YhGh/hYiIhgubExMRkSaEtUIjIiL6rWGgERGRJjDQiIhIExhoRESkCQw0IiLSBAYaERFpQvhf228pxnunFCxctBEL/D9F60DN6X3YdbkOXbpkrM/MQZphYA22F7Clt+di7DvIWwjsz9uGb6HH5JiVWPtQNrqUoDlC8sSd2DpnnDoiIiIaKOxA857egr1tkWiKfR07ZuvRZduGN72r8Xmm2ubpJtBlH1hTit9CzYydeMrfLkpSsP1YHdY+sRIPXD6KdedN+CRrPkYF19WZREREgwnzkmMLrNdMWDFvPqKvVEL26DjrdmPFlKCehSND1+S+NfWVKP+xEkqjbHEf5P5xMA7SRoqIiOjXhBdoLZWw6tIxTZ+GDBSjvLUD3hsmRPfpDhWqNgjfl8jJ24CXTl3C8nS5OiMiIro3YQWat+Z7lLd/jFUihPb6FJxwAdMMbpS7ghv46kPUpHGYnJCOjBnpSIuLDJRGv4h9qz7D/uU5yIgNlIiIiO5FWIFmvarHjscOIm+VeCzZCFxVYJyZA2PNBqwz78b2ot3+W7vEh6jJ+4idsO3GrmLxqA51nzEiIqJ7x+bERESkCfwdGhERaQIDjYiINIGBRkREmsBAIyIiTWCgERGRJjDQiIhIExhoRESkCQw0IiLSBAYaERFpAgONiIg0gYFGRESawEAjIiJNYKAREZEmMNCIiEgTGGhERKQJDDQiItIEBhoREWkCA42IiDSBgUZERJrAQCMiIk1goBERkSbcDrQRI0agublZHREREf1fAvwbE4ngcq7zUQsAAAAASUVORK5CYII=)"
      ]
    }
  ]
}