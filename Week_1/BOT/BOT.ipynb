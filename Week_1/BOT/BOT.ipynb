{
  "nbformat": 4,
  "nbformat_minor": 0,
  "metadata": {
    "kernelspec": {
      "display_name": "Python 3",
      "language": "python",
      "name": "python3"
    },
    "language_info": {
      "codemirror_mode": {
        "name": "ipython",
        "version": 3
      },
      "file_extension": ".py",
      "mimetype": "text/x-python",
      "name": "python",
      "nbconvert_exporter": "python",
      "pygments_lexer": "ipython3",
      "version": "3.8.3"
    },
    "colab": {
      "name": "BOT.ipynb",
      "provenance": [],
      "include_colab_link": true
    }
  },
  "cells": [
    {
      "cell_type": "markdown",
      "metadata": {
        "id": "view-in-github",
        "colab_type": "text"
      },
      "source": [
        "<a href=\"https://colab.research.google.com/github/caohungphu/CS112.L21/blob/main/Week_1/BOT/BOT.ipynb\" target=\"_parent\"><img src=\"https://colab.research.google.com/assets/colab-badge.svg\" alt=\"Open In Colab\"/></a>"
      ]
    },
    {
      "cell_type": "markdown",
      "metadata": {
        "id": "Lu2KaakFTh39"
      },
      "source": [
        "**<h1><center><center><center>BOT - TRẠM THU PHÍ</center></h1>**"
      ]
    },
    {
      "cell_type": "markdown",
      "metadata": {
        "id": "dLmUb674Th4I"
      },
      "source": [
        "### **NHÓM L21.N04**:\n",
        "1. Cao Hưng Phú - *19520214*\n",
        "2. Lê Quang Nha - *19520195*\n",
        "3. Nguyễn Ngọc Lan Phương - *19520227*\n",
        "4. Trần Huỳnh Kỳ Anh - *19521216*"
      ]
    },
    {
      "cell_type": "markdown",
      "metadata": {
        "id": "g2AC9bMvTh4K"
      },
      "source": [
        "### **ĐỀ BÀI**:\n",
        "\n",
        "**BOT** (Built-Operation-Transfer, có nghĩa: Xây dựng-Vận hành-Chuyển giao) là hình thức Chính phủ kêu gọi các công ty bỏ vốn xây dựng trước (Built) thông qua đấu thầu, sau đó khai thác vận hành một thời gian (Operation) và sau cùng là chuyển giao (Transfer) lại cho nhà nước sở tại.\n",
        "\n",
        "Đường cao tốc xuyên quốc gia được xây dựng theo hình thức BOT. Công ty Đa quốc gia Modern Highway trúng thầu, chia toàn bộ con đường thành **$n$** đoạn. Theo tính toán của Công ty sau khi chuyển giao con đường cho chính phủ sở tại quản lý thì lãi thu được ở đoạn đường thứ **$i$** là **$a_{i}, a_{i}$** có thể dương, âm hoặc bằng 0, tức là với từng đoạn con có thể lãi, lỗ hoặc hòa vốn. Từng nhóm các đoạn đường liên tiếp nhau (gọi tắt là khoảng) được chia cho các công ty con thực hiện. Công ty con ASEAM Highway hiện đang có trụ sở ở nước sở tại được quyền chọn trước khoảng tùy ý (có thể là cả con đường).\n",
        "\n",
        "Dĩ nhiên Ban Giám đốc ASEAM Highway muốn chọn khoảng bắt đầu từ đoạn **$p$** đến hết đoạn **$q$** mang lại lợi nhuận cao nhất hoặc lỗ ít nhất nếu không có khoảng nào cho lãi.\n",
        "\n",
        "Hãy chỉ ra khoảng cần chọn và lãi thu được. Nếu có nhiều cách chọn thì chỉ ra cách chọn có **$p$** nhỏ nhất.\n",
        "\n",
        "**Dữ liệu**: Vào từ thiết bị nhập chuẩn:\n",
        "\n",
        "•\tDòng đầu tiên chứa số nguyên **$n$** (1 ≤ **$n$** ≤ 106),\n",
        "\n",
        "•\tDòng thứ 2 chứa **$n$** số nguyên **$a_{1}, a_{2}, . . ., a_{n}$** (0 ≤ |**$a_{i}$**| ≤ 109, **$i$** = 1 ÷ **$n$**).\n",
        "\n",
        "**Kết quả**: Đưa ra thiết bị xuất chuẩn trên một dòng 2 số nguyên **$p$, $q$** và lãi thu được.\n"
      ]
    },
    {
      "cell_type": "markdown",
      "metadata": {
        "id": "J9ctzTyCTh4M"
      },
      "source": [
        "### **1.ABSTRACTION (TRỪU TƯỢNG HÓA)**\n",
        "\n",
        "Tìm p, q và mảng con lớn nhất nằm trong khoảng p đến q. Nếu có nhiều cách chọn thì chọn p nhỏ nhất"
      ]
    },
    {
      "cell_type": "markdown",
      "metadata": {
        "id": "vdnydLAtTh4M"
      },
      "source": [
        "### **2. PATTERN RECOGNIZATION (NHẬN DIỆN KHUÔN MẪU)**\n",
        "•   Kỹ thuật áp dụng: Duyệt\n",
        "\n",
        "•   Đặc điểm nhận dạng: Chọn khoảng từ p đến q sao cho lợi nhuận cao nhất hoặc lỗ ít nhất"
      ]
    },
    {
      "cell_type": "markdown",
      "metadata": {
        "id": "FGg7M9N7Th4N"
      },
      "source": [
        "### **3. ALGORITHM DESIGNED (THIẾT KẾ THUẬT TOÁN)**\n",
        "#### **3.1 Mã giả:**\n",
        "- Nếu a[i] < 0 và i = 1 -> n:\n",
        "\t- Tổng lãi = max{a[i], i = 1 -> n}\n",
        "\t- Khoảng cần tìm chỉ chứa 1 phần tử\n",
        "- Nếu a[i] = 0 và i = 1 -> n:\n",
        "\t- Tổng lãi = 0\n",
        "\t- Khoảng cần tìm chỉ chứa 1 phần tử \n",
        "- Nếu tồn tại a[i] > 0:\n",
        "\t- Tính tổng sum các phần tử liên tiếp từ p đến q (p bắt đầu từ 1):\n",
        "\t\t- Nếu sum > 0:\n",
        "      - Lưu giá trị tổng lớn nhất\n",
        "      - Lưu vị trí khoảng cần tìm\n",
        "\t\t- Nếu sum = 0:\n",
        "      - Bỏ qua vị trí khoảng đã duyệt\n",
        "      - Gán lại giá trị cho sum = 0\n",
        " \n",
        " #### **3.2 Đánh giá độ phức tạp:**\n",
        " \n",
        " Ta chỉ chạy một vòng lặp cho chương trình nên độ phức tạp là **O(n)**\n",
        " #### **3.3 Code:**\n",
        " \n"
      ]
    },
    {
      "cell_type": "code",
      "metadata": {
        "colab": {
          "base_uri": "https://localhost:8080/"
        },
        "id": "_-fFW0muTh4O",
        "outputId": "825bc4d9-fe94-431b-8faa-213b7aad2911"
      },
      "source": [
        "n = int(input())\n",
        "a = list(map(int, input().split()))\n",
        "\n",
        "p, q = 0, 0\n",
        "i_less = 0\n",
        "i_0 = -1\n",
        "curr = -1\n",
        "max_result = -9999999999\n",
        "\n",
        "result = -9999999999\n",
        "sum = 0\n",
        "\n",
        "for i in range(0, n):\n",
        "    if a[i] < 0 and a[i] > max_result:\n",
        "        max_result = a[i]\n",
        "        i_less = i\n",
        "    if a[i] == 0 and i_0 < 0:\n",
        "        i_0 = i\n",
        "    sum += a[i]\n",
        "    if sum < 0:\n",
        "        curr = i\n",
        "        sum = 0\n",
        "    elif sum > result:\n",
        "        p = curr\n",
        "        q = i  \n",
        "        result = sum\n",
        "        \n",
        "if result < 0:\n",
        "    print(i_less + 1, i_less + 1, max_result)\n",
        "elif result == 0:\n",
        "    print(i_0 + 1, i_0 + 1, \"0\")\n",
        "else:\n",
        "    print(p + 2, q + 1, result)"
      ],
      "execution_count": 1,
      "outputs": [
        {
          "output_type": "stream",
          "text": [
            "16\n",
            "2 -4 5 -8 4 -1 -1 1 1 1 -2 2 4 -6 9 -4\n",
            "5 15 12\n"
          ],
          "name": "stdout"
        }
      ]
    },
    {
      "cell_type": "markdown",
      "metadata": {
        "id": "CdEZvXm8UguG"
      },
      "source": [
        "**Kết quả sau khi submit lên hệ thống Wecode**\n",
        "\n",
        "\n",
        "![Result_BOT.png](data:image/png;base64,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)"
      ]
    }
  ]
}