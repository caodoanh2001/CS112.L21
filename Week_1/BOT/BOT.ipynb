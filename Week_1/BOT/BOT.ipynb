{
  "nbformat": 4,
  "nbformat_minor": 0,
  "metadata": {
    "kernelspec": {
      "display_name": "Python 3",
      "language": "python",
      "name": "python3"
    },
    "language_info": {
      "codemirror_mode": {
        "name": "ipython",
        "version": 3
      },
      "file_extension": ".py",
      "mimetype": "text/x-python",
      "name": "python",
      "nbconvert_exporter": "python",
      "pygments_lexer": "ipython3",
      "version": "3.8.3"
    },
    "colab": {
      "name": "BOT.ipynb",
      "provenance": [],
      "include_colab_link": true
    }
  },
  "cells": [
    {
      "cell_type": "markdown",
      "metadata": {
        "id": "view-in-github",
        "colab_type": "text"
      },
      "source": [
        "<a href=\"https://colab.research.google.com/github/caohungphu/CS112.L21/blob/main/Week_1/BOT/BOT.ipynb\" target=\"_parent\"><img src=\"https://colab.research.google.com/assets/colab-badge.svg\" alt=\"Open In Colab\"/></a>"
      ]
    },
    {
      "cell_type": "markdown",
      "metadata": {
        "id": "Lu2KaakFTh39"
      },
      "source": [
        "**<h1><center><center><center>BOT - TRẠM THU PHÍ</center></h1>**"
      ]
    },
    {
      "cell_type": "markdown",
      "metadata": {
        "id": "dLmUb674Th4I"
      },
      "source": [
        "### NHÓM L21.N04:\n",
        "1. Cao Hưng Phú - *19520214*\n",
        "2. Lê Quang Nha - *19520195*\n",
        "3. Nguyễn Ngọc Lan Phương - *19520227*\n",
        "4. Trần Huỳnh Kỳ Anh - *19521216*"
      ]
    },
    {
      "cell_type": "markdown",
      "metadata": {
        "id": "g2AC9bMvTh4K"
      },
      "source": [
        "### ĐỀ BÀI:\n",
        "\n",
        "**BOT** (Built-Operation-Transfer, có nghĩa: Xây dựng-Vận hành-Chuyển giao) là hình thức Chính phủ kêu gọi các công ty bỏ vốn xây dựng trước (Built) thông qua đấu thầu, sau đó khai thác vận hành một thời gian (Operation) và sau cùng là chuyển giao (Transfer) lại cho nhà nước sở tại.\n",
        "\n",
        "Đường cao tốc xuyên quốc gia được xây dựng theo hình thức BOT. Công ty Đa quốc gia Modern Highway trúng thầu, chia toàn bộ con đường thành **$n$** đoạn. Theo tính toán của Công ty sau khi chuyển giao con đường cho chính phủ sở tại quản lý thì lãi thu được ở đoạn đường thứ **$i$** là **$a_{i}, a_{i}$** có thể dương, âm hoặc bằng 0, tức là với từng đoạn con có thể lãi, lỗ hoặc hòa vốn. Từng nhóm các đoạn đường liên tiếp nhau (gọi tắt là khoảng) được chia cho các công ty con thực hiện. Công ty con ASEAM Highway hiện đang có trụ sở ở nước sở tại được quyền chọn trước khoảng tùy ý (có thể là cả con đường).\n",
        "\n",
        "Dĩ nhiên Ban Giám đốc ASEAM Highway muốn chọn khoảng bắt đầu từ đoạn **$p$** đến hết đoạn **$q$** mang lại lợi nhuận cao nhất hoặc lỗ ít nhất nếu không có khoảng nào cho lãi.\n",
        "\n",
        "Hãy chỉ ra khoảng cần chọn và lãi thu được. Nếu có nhiều cách chọn thì chỉ ra cách chọn có **$p$** nhỏ nhất.\n",
        "\n",
        "**Dữ liệu**: Vào từ thiết bị nhập chuẩn:\n",
        "\n",
        "•\tDòng đầu tiên chứa số nguyên **$n$** (1 ≤ **$n$** ≤ 106),\n",
        "\n",
        "•\tDòng thứ 2 chứa **$n$** số nguyên **$a_{1}, a_{2}, . . ., a_{n}$** (0 ≤ |**$a_{i}$**| ≤ 109, **$i$** = 1 ÷ **$n$**).\n",
        "\n",
        "**Kết quả**: Đưa ra thiết bị xuất chuẩn trên một dòng 2 số nguyên **$p$, $q$** và lãi thu được.\n"
      ]
    },
    {
      "cell_type": "markdown",
      "metadata": {
        "id": "J9ctzTyCTh4M"
      },
      "source": [
        "### 1.ABSTRACTION (TRỪU TƯỢNG HÓA)\n",
        "\n",
        "Tìm p, q và mảng con lớn nhất nằm trong khoảng p đến q. Nếu có nhiều cách chọn thì chọn p nhỏ nhất"
      ]
    },
    {
      "cell_type": "markdown",
      "metadata": {
        "id": "vdnydLAtTh4M"
      },
      "source": [
        "### 2. PATTERN RECOGNIZATION (NHẬN DIỆN KHUÔN MẪU)\n",
        "•   Kỹ thuật áp dụng: Duyệt\n",
        "\n",
        "•   Đặc điểm nhận dạng: Chọn khoảng từ p đến q sao cho lợi nhuận cao nhất hoặc lỗ ít nhất"
      ]
    },
    {
      "cell_type": "markdown",
      "metadata": {
        "id": "FGg7M9N7Th4N"
      },
      "source": [
        "### 3. ALGORITHM DESIGNED (THIẾT KẾ THUẬT TOÁN) \n",
        "#### 3.1 *Mã giả*:\n",
        "if a[i] < 0 and i = 1 -> n:\n",
        "\n",
        "\tTổng lãi = max{a[i], i = 1 -> n}\n",
        "    \n",
        "\tKhoảng cần tìm chỉ chứa 1 phần tử\n",
        "    \n",
        "if a[i] = 0 and i = 1 -> n:\n",
        "\n",
        "\tTổng lãi = 0\n",
        "    \n",
        "\tKhoảng cần tìm chỉ chứa 1 phần tử\n",
        "    \n",
        "if tồn tại a[i] > 0:\n",
        "\n",
        "\tTính tổng sum các phần tử liên tiếp từ p đến q (p bắt đầu từ 1):\n",
        "    \n",
        "\t\tif sum > 0:\n",
        "        \n",
        "\t\t\tLưu giá trị tổng lớn nhất\n",
        "Lưu vị trí khoảng cần tìm\n",
        "\n",
        "\t\tif sum = 0:\n",
        "        \n",
        "\t\t\tBỏ qua vị trí khoảng đã duyệt\n",
        "\t\t\t\n",
        "            Gán lại giá trị cho sum = 0\n",
        " \n",
        " #### 3.2 *Đánh giá độ phức tạp*: \n",
        " \n",
        " Ta chỉ chạy một vòng lặp cho chương trình nên độ phức tạp là O(n)\n",
        " #### 3.3 *Code*:\n",
        " \n"
      ]
    },
    {
      "cell_type": "code",
      "metadata": {
        "id": "_-fFW0muTh4O"
      },
      "source": [
        "n = int(input())\n",
        "a = list(map(int, input().split()))\n",
        "\n",
        "p, q = 0, 0\n",
        "i_less = 0\n",
        "i_0 = -1\n",
        "curr = -1\n",
        "max_result = -9999999999\n",
        "\n",
        "result = -9999999999\n",
        "sum = 0\n",
        "\n",
        "for i in range(0, n):\n",
        "    if a[i] < 0 and a[i] > max_result:\n",
        "        max_result = a[i]\n",
        "        i_less = i\n",
        "    if a[i] == 0 and i_0 < 0:\n",
        "        i_0 = i\n",
        "    sum += a[i]\n",
        "    if sum < 0:\n",
        "        curr = i\n",
        "        sum = 0\n",
        "    elif sum > result:\n",
        "        p = curr\n",
        "        q = i  \n",
        "        result = sum\n",
        "        \n",
        "if result < 0:\n",
        "    print(i_less + 1, i_less + 1, max_result)\n",
        "elif result == 0:\n",
        "    print(i_0 + 1, i_0 + 1, \"0\")\n",
        "else:\n",
        "    print(p + 2, q + 1, result)"
      ],
      "execution_count": null,
      "outputs": []
    }
  ]
}